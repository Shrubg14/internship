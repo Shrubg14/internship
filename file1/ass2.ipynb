{
 "cells": [
  {
   "cell_type": "markdown",
   "id": "c2bc740a-7606-45ab-adbd-c00ac243264e",
   "metadata": {},
   "source": [
    "que 1"
   ]
  },
  {
   "cell_type": "code",
   "execution_count": 1,
   "id": "77060781-3d2c-4812-be9c-08228ca85433",
   "metadata": {},
   "outputs": [
    {
     "name": "stdin",
     "output_type": "stream",
     "text": [
      "enter text: Hello..My name, is Shruti.\n"
     ]
    },
    {
     "name": "stdout",
     "output_type": "stream",
     "text": [
      "Hello::My:name::is:Shruti:\n"
     ]
    }
   ],
   "source": [
    "import re\n",
    "text = input('enter text:')\n",
    "print(re.sub(\"[ ,.]\", \":\", text))"
   ]
  },
  {
   "cell_type": "markdown",
   "id": "27fe8d93-0128-4a4c-827a-6b8d4d4dedec",
   "metadata": {},
   "source": [
    "que 2"
   ]
  },
  {
   "cell_type": "code",
   "execution_count": 4,
   "id": "edd909f6-9475-4dc1-bde2-a4703f6ee44e",
   "metadata": {},
   "outputs": [
    {
     "name": "stdout",
     "output_type": "stream",
     "text": [
      "         SUMMARY\n",
      "0    hello world\n",
      "1     XXXXX test\n",
      "2  four five six\n"
     ]
    }
   ],
   "source": [
    "import pandas as pd\n",
    "data = {'SUMMARY': ['hello, world!', 'XXXXX test', '123four, five:; six...']}\n",
    "df = pd.DataFrame(data)\n",
    "df['SUMMARY'] = df['SUMMARY'].str.replace('[^a-zA-Z\\s]', '', regex=True)\n",
    "print(df)"
   ]
  },
  {
   "cell_type": "markdown",
   "id": "635078a0-bd9f-4b7e-899a-2b907550a656",
   "metadata": {},
   "source": [
    "que 3"
   ]
  },
  {
   "cell_type": "code",
   "execution_count": 27,
   "id": "97fa4467-936d-4540-b5dd-cf84f9e4f2c5",
   "metadata": {},
   "outputs": [
    {
     "name": "stdout",
     "output_type": "stream",
     "text": [
      "['capacity', 'work', 'called', 'Energy']\n"
     ]
    }
   ],
   "source": [
    "import re\n",
    "\n",
    "def fourlenwords(string):\n",
    "  pattern = re.compile(r'\\b\\w{4,}\\b')\n",
    "  matches = pattern.findall(string)\n",
    "  return matches\n",
    "\n",
    "string = \"The capacity to do work is called Energy.\"\n",
    "finalop = fourlenwords(string)\n",
    "print(finalop)"
   ]
  },
  {
   "cell_type": "markdown",
   "id": "25a7f6b2-d39d-4fc5-af16-0d206eabc785",
   "metadata": {},
   "source": [
    "que 4"
   ]
  },
  {
   "cell_type": "code",
   "execution_count": 26,
   "id": "4a9a96e7-d0e2-47e4-930a-94eaf524051f",
   "metadata": {},
   "outputs": [
    {
     "name": "stdout",
     "output_type": "stream",
     "text": [
      "['The', 'work', 'issss']\n"
     ]
    }
   ],
   "source": [
    "import re\n",
    "\n",
    "def fourlenwords(string):\n",
    "  pattern = re.compile(r'\\b\\w{3,5}\\b')\n",
    "  matches = pattern.findall(string)\n",
    "  return matches\n",
    "\n",
    "string = \"The capacity to do work issss called Energy.\"\n",
    "finalop = fourlenwords(string)\n",
    "print(finalop)"
   ]
  },
  {
   "cell_type": "markdown",
   "id": "4b765240-f2ee-4c95-bde4-73045ea8ddb1",
   "metadata": {},
   "source": [
    "Q5"
   ]
  },
  {
   "cell_type": "code",
   "execution_count": null,
   "id": "ca95ba1d-a68b-4511-ba82-083ccdb47c06",
   "metadata": {},
   "outputs": [],
   "source": []
  },
  {
   "cell_type": "markdown",
   "id": "f0296df6-07d2-4765-883d-8fee74830c2c",
   "metadata": {},
   "source": [
    "Q 6"
   ]
  },
  {
   "cell_type": "code",
   "execution_count": 78,
   "id": "03a07701-bd50-4482-a5ad-4d564e73f68a",
   "metadata": {},
   "outputs": [
    {
     "name": "stdout",
     "output_type": "stream",
     "text": [
      "a,b,c,d\n"
     ]
    }
   ],
   "source": [
    "import re\n",
    "s1 = [\"a(A),b(B),c(C),d(D)\"]\n",
    "for s in s1:\n",
    "    print(re.sub(r\" ?\\([^)]+\\)\", \"\", s))\n",
    "\t"
   ]
  },
  {
   "cell_type": "markdown",
   "id": "c8b16c6c-efff-4c9a-8eef-d1383204f88e",
   "metadata": {},
   "source": [
    "Q 7"
   ]
  },
  {
   "cell_type": "code",
   "execution_count": 25,
   "id": "a357528d-4939-4694-a0f7-ef6f730ec29e",
   "metadata": {
    "scrolled": true
   },
   "outputs": [
    {
     "name": "stdout",
     "output_type": "stream",
     "text": [
      "['Hello', 'My', 'Name', 'Is', 'Shruti']\n"
     ]
    }
   ],
   "source": [
    "import re\n",
    "text = \"HelloMyNameIsShruti\"\n",
    "print(re.findall('[A-Z][^A-Z]*', text))"
   ]
  },
  {
   "cell_type": "markdown",
   "id": "ef4e45dd-b387-4e00-8f48-93f6de850cd4",
   "metadata": {},
   "source": [
    "Q 8"
   ]
  },
  {
   "cell_type": "code",
   "execution_count": 25,
   "id": "81940ea9-faee-4d2b-9699-0b29f6ec5cd3",
   "metadata": {},
   "outputs": [
    {
     "name": "stdout",
     "output_type": "stream",
     "text": [
      "Fruits1 Apple2 Mango3 Banana4 Guava\n"
     ]
    }
   ],
   "source": [
    "import re\n",
    "\n",
    "def insert_spaces(text):\n",
    "  pattern = r'(\\d+)([A-Za-z]+)'\n",
    "  result = re.sub(pattern, r'\\1 \\2', text)\n",
    "  return result\n",
    "\n",
    "text = \"Fruits1Apple2Mango3Banana4Guava\"\n",
    "finalop = insert_spaces(text)\n",
    "print(finalop)\n"
   ]
  },
  {
   "cell_type": "markdown",
   "id": "2b8e8799-f550-4862-9efb-068b92c9966d",
   "metadata": {},
   "source": [
    "Q 9"
   ]
  },
  {
   "cell_type": "code",
   "execution_count": 28,
   "id": "eb0856f4-7af7-42c4-806f-f214878c95b7",
   "metadata": {},
   "outputs": [
    {
     "name": "stdout",
     "output_type": "stream",
     "text": [
      "Hey0 How Are You1one2two\n"
     ]
    }
   ],
   "source": [
    "import re\n",
    "\n",
    "def space(text):\n",
    "  pattern = r'([A-Z][a-z0-9]*)|(\\d+)'\n",
    "  result = re.sub(pattern, r' \\1\\2', text)\n",
    "  result = result.strip()\n",
    "  return result\n",
    "\n",
    "text = \"HeyHowAreYou1one2two\"\n",
    "finalop = space(text)\n",
    "print(finalop)"
   ]
  },
  {
   "cell_type": "markdown",
   "id": "a4933951-174e-42ff-92e4-1e2f7fe884bd",
   "metadata": {},
   "source": [
    "Q11"
   ]
  },
  {
   "cell_type": "code",
   "execution_count": 31,
   "id": "a97f836e-83b9-4aeb-bbf6-37410f3f02f3",
   "metadata": {},
   "outputs": [
    {
     "name": "stdout",
     "output_type": "stream",
     "text": [
      "Not matched!\n",
      "matched!\n"
     ]
    }
   ],
   "source": [
    "import re\n",
    "def text(text):\n",
    "        patterns = '^[a-zA-Z0-9_]*$'\n",
    "        if re.search(patterns,  text):\n",
    "                return 'matched!'\n",
    "        else:\n",
    "                return('Not matched!')\n",
    "\n",
    "print(text(\"i ate apple\"))\n",
    "print(text(\"I_Ate_Apple_1\"))"
   ]
  },
  {
   "cell_type": "markdown",
   "id": "9ae95ca0-8448-4840-b59f-d2f700c25a9a",
   "metadata": {},
   "source": [
    "Q 12"
   ]
  },
  {
   "cell_type": "code",
   "execution_count": 36,
   "id": "c0d31c4f-0007-49bb-b8f7-cfd46f043bc6",
   "metadata": {},
   "outputs": [
    {
     "name": "stdout",
     "output_type": "stream",
     "text": [
      "False\n",
      "True\n"
     ]
    }
   ],
   "source": [
    "import re\n",
    "def string(string):\n",
    "    text = re.compile(r\"^4\")\n",
    "    if text.match(string):\n",
    "        return True\n",
    "    else:\n",
    "        return False\n",
    "print(string('600000'))\n",
    "print(string('4000000'))"
   ]
  },
  {
   "cell_type": "markdown",
   "id": "d3527fec-f1df-42be-ae6f-ef50bb3cfbbd",
   "metadata": {},
   "source": [
    "Q 13"
   ]
  },
  {
   "cell_type": "code",
   "execution_count": 38,
   "id": "8e034860-3f27-4c24-9cab-6fbda0a040ad",
   "metadata": {},
   "outputs": [
    {
     "name": "stdout",
     "output_type": "stream",
     "text": [
      "192..2.123\n"
     ]
    }
   ],
   "source": [
    "import re\n",
    "ip = \"192.0.02.0123\"\n",
    "string = re.sub('\\.[0]*', '.', ip)\n",
    "print(string)"
   ]
  },
  {
   "cell_type": "markdown",
   "id": "d533d512-b73c-4245-b85d-c18870dc8e8d",
   "metadata": {},
   "source": [
    "Q 14 didnt understand"
   ]
  },
  {
   "cell_type": "markdown",
   "id": "e2280bad-681b-4bc5-8199-9ca514327ce4",
   "metadata": {},
   "source": [
    "Q 15"
   ]
  },
  {
   "cell_type": "code",
   "execution_count": 43,
   "id": "d2f7c5e3-3fdf-4332-8bdd-13d50ffe07c2",
   "metadata": {},
   "outputs": [
    {
     "name": "stdout",
     "output_type": "stream",
     "text": [
      "rose I love rose lilly and lotus.\n",
      "Matched!\n",
      "lilly I love rose lilly and lotus.\n",
      "Matched!\n",
      "lotus I love rose lilly and lotus.\n",
      "Matched!\n",
      "sunflower I love rose lilly and lotus.\n",
      "Not Matched!\n"
     ]
    }
   ],
   "source": [
    "import re\n",
    "patterns = [ 'rose', 'lilly', 'lotus','sunflower' ]\n",
    "text = 'I love rose lilly and lotus.'\n",
    "for pattern in patterns:\n",
    "    print(pattern, text)\n",
    "    if re.search(pattern,  text):\n",
    "        print('Matched!')\n",
    "    else:\n",
    "        print('Not Matched!')\n",
    "\t\t"
   ]
  },
  {
   "cell_type": "markdown",
   "id": "8f6575e4-249b-430c-a10b-5cfc4e35955d",
   "metadata": {},
   "source": [
    "Q 16"
   ]
  },
  {
   "cell_type": "code",
   "execution_count": 44,
   "id": "7efaa3d3-cb67-47eb-a620-71c46b24e774",
   "metadata": {},
   "outputs": [
    {
     "name": "stdout",
     "output_type": "stream",
     "text": [
      "Found \"lilly\" in \"I love rose lilly and lotus.\" from 12 to 17 \n"
     ]
    }
   ],
   "source": [
    "import re\n",
    "pattern = 'lilly'\n",
    "text = 'I love rose lilly and lotus.'\n",
    "match = re.search(pattern, text)\n",
    "s = match.start()\n",
    "e = match.end()\n",
    "print('Found \"%s\" in \"%s\" from %d to %d ' % \\\n",
    "    (match.re.pattern, match.string, s, e))"
   ]
  },
  {
   "cell_type": "markdown",
   "id": "d9b6e320-85b9-47c9-8f7e-406215fd84f2",
   "metadata": {},
   "source": [
    "Q  17"
   ]
  },
  {
   "cell_type": "code",
   "execution_count": 45,
   "id": "cde1f03d-acbb-4447-bb7f-bf0af9d08ffd",
   "metadata": {},
   "outputs": [
    {
     "name": "stdout",
     "output_type": "stream",
     "text": [
      "Found \"rose\"\n"
     ]
    }
   ],
   "source": [
    "import re\n",
    "text = 'I love rose lilly and lotus'\n",
    "pattern = 'rose'\n",
    "for match in re.findall(pattern, text):\n",
    "    print('Found \"%s\"' % match)"
   ]
  },
  {
   "cell_type": "markdown",
   "id": "1fa8c54c-9952-442b-bffe-58759cd86783",
   "metadata": {},
   "source": [
    "Q 18"
   ]
  },
  {
   "cell_type": "code",
   "execution_count": 48,
   "id": "031d4dc4-a4da-46a5-a938-6d3fe4d2a8bd",
   "metadata": {},
   "outputs": [
    {
     "name": "stdout",
     "output_type": "stream",
     "text": [
      "Found \"lilly\" at 12:17\n"
     ]
    }
   ],
   "source": [
    "import re\n",
    "text = 'I love rose lilly and lotus'\n",
    "pattern = 'lilly'\n",
    "for match in re.finditer(pattern, text):\n",
    "    s = match.start()\n",
    "    e = match.end()\n",
    "    print('Found \"%s\" at %d:%d' % (text[s:e], s, e))"
   ]
  },
  {
   "cell_type": "markdown",
   "id": "5a0b8d13-b70c-4853-8b79-731bbe474ae3",
   "metadata": {},
   "source": [
    "Q 19"
   ]
  },
  {
   "cell_type": "code",
   "execution_count": 49,
   "id": "84a32db2-b631-4ec5-914b-6907ea3472b6",
   "metadata": {},
   "outputs": [
    {
     "name": "stdout",
     "output_type": "stream",
     "text": [
      "before changing:  2024-05-26\n",
      "after changing:  26-05-2024\n"
     ]
    }
   ],
   "source": [
    "import re\n",
    "def formchange(dt):\n",
    "        return re.sub(r'(\\d{4})-(\\d{1,2})-(\\d{1,2})', '\\\\3-\\\\2-\\\\1', dt)\n",
    "dt1 = \"2024-05-26\"\n",
    "print(\"before changing: \",dt1)\n",
    "print(\"after changing: \",formchange(dt1))"
   ]
  },
  {
   "cell_type": "markdown",
   "id": "f518aab9-c746-43c6-a8f9-7e8f751eb011",
   "metadata": {},
   "source": [
    "Q 20"
   ]
  },
  {
   "cell_type": "code",
   "execution_count": 50,
   "id": "a6456a2c-18c2-4907-a30d-40e8ededb7d7",
   "metadata": {},
   "outputs": [
    {
     "name": "stdout",
     "output_type": "stream",
     "text": [
      "['01.12', '0132.12', '2.31', '145.8', '3.01', '27.25', '0.25']\n"
     ]
    }
   ],
   "source": [
    "import re\n",
    "\n",
    "def decinum(string):\n",
    "  pattern = re.compile(r'\\d+\\.\\d{1,2}')\n",
    "  decimal_numbers = re.findall(pattern, string)\n",
    "  return decimal_numbers\n",
    "\n",
    "string = \"01.12 0132.123 2.31875 145.8 3.01 27.25 0.25\"\n",
    "finalop = decinum(string)\n",
    "print(finalop)"
   ]
  },
  {
   "cell_type": "markdown",
   "id": "c1e1d867-fbaf-40c4-a4af-a7ebd9ab0371",
   "metadata": {},
   "source": [
    "Q 21"
   ]
  },
  {
   "cell_type": "code",
   "execution_count": 52,
   "id": "a233c631-811b-4ba1-a909-9774ea5ae2a9",
   "metadata": {},
   "outputs": [
    {
     "name": "stdout",
     "output_type": "stream",
     "text": [
      "21\n",
      "Index position: 5\n",
      "25\n",
      "Index position: 22\n"
     ]
    }
   ],
   "source": [
    "import re\n",
    "# Input.\n",
    "text = \"i am 21 years old not 25\"\n",
    "\n",
    "for m in re.finditer(\"\\d+\", text):\n",
    "    print(m.group(0))\n",
    "    print(\"Index position:\", m.start())\n",
    "    "
   ]
  },
  {
   "cell_type": "markdown",
   "id": "e7ebaf42-968a-4512-b8cb-e64a6c5bb5c4",
   "metadata": {},
   "source": [
    "Q 22"
   ]
  },
  {
   "cell_type": "code",
   "execution_count": 55,
   "id": "02fd9566-16e9-4a6e-b263-4154a25d6b8e",
   "metadata": {},
   "outputs": [
    {
     "name": "stdout",
     "output_type": "stream",
     "text": [
      "1100\n"
     ]
    }
   ],
   "source": [
    "import re\n",
    "\n",
    "numbers = '1,2,3,4,50,60,70,1100,100,165,964,90'\n",
    "\n",
    "numeric_values = re.findall(r'\\d+', numbers)\n",
    "numeric_values = [int(value) for value in numeric_values]\n",
    "\n",
    "max_value = max(numeric_values)\n",
    "\n",
    "print(max_value)"
   ]
  },
  {
   "cell_type": "markdown",
   "id": "1b64d255-8bf7-4364-a6b3-686b8994dd5b",
   "metadata": {},
   "source": [
    "Q 23"
   ]
  },
  {
   "cell_type": "code",
   "execution_count": 58,
   "id": "4042c7bb-d9ac-4471-a190-a0ead40d74e1",
   "metadata": {},
   "outputs": [
    {
     "name": "stdout",
     "output_type": "stream",
     "text": [
      "I Am Shruti\n"
     ]
    }
   ],
   "source": [
    "import re\n",
    "def cpsp(str1):\n",
    "  return re.sub(r\"(\\w)([A-Z])\", r\"\\1 \\2\", str1)\n",
    "\n",
    "print(cpsp(\"IAmShruti\"))"
   ]
  },
  {
   "cell_type": "markdown",
   "id": "493cf603-ebc7-4f34-9478-432b68be7e03",
   "metadata": {},
   "source": [
    "Q 24"
   ]
  },
  {
   "cell_type": "code",
   "execution_count": 60,
   "id": "69fd595b-ab8a-47a5-8c12-730e53ffd92b",
   "metadata": {},
   "outputs": [
    {
     "name": "stdout",
     "output_type": "stream",
     "text": [
      "Found a match!\n",
      "Found a match!\n",
      "Not matched!\n"
     ]
    }
   ],
   "source": [
    "import re\n",
    "def text(text):\n",
    "        patterns = '[A-Z]+[a-z]+$'\n",
    "        if re.search(patterns, text):\n",
    "                return 'Found a match!'\n",
    "        else:\n",
    "                return('Not matched!')\n",
    "print(text(\"sHruti\"))\n",
    "print(text(\"Shruti\"))\n",
    "print(text(\"shruti\"))"
   ]
  },
  {
   "cell_type": "markdown",
   "id": "f2f6f638-d22c-4835-9c7c-2964ec27818f",
   "metadata": {},
   "source": [
    "Q 25 "
   ]
  },
  {
   "cell_type": "code",
   "execution_count": 62,
   "id": "ba19fa30-2445-4a06-af3a-1f67ecf7d3de",
   "metadata": {},
   "outputs": [
    {
     "name": "stdout",
     "output_type": "stream",
     "text": [
      "I i am Shruti shruti\n"
     ]
    }
   ],
   "source": [
    "import re\n",
    "\n",
    "def rmdp(sentence):\n",
    "  pattern = r'\\b(\\w+)(\\s+\\1\\b)+'\n",
    "  result = re.sub(pattern, r'\\1', sentence)\n",
    "  return result\n",
    "\n",
    "sentence = \"I i am Shruti Shruti shruti\"\n",
    "output = rmdp(sentence)\n",
    "print(output)"
   ]
  },
  {
   "cell_type": "markdown",
   "id": "398b19d7-d179-47bf-8bb6-d4724a5eb774",
   "metadata": {},
   "source": [
    "Q 26"
   ]
  },
  {
   "cell_type": "code",
   "execution_count": 64,
   "id": "937856a1-6287-4c98-8a6d-5bc1b3f8f872",
   "metadata": {},
   "outputs": [
    {
     "name": "stdin",
     "output_type": "stream",
     "text": [
      "Enter a string:  shruti123\n"
     ]
    },
    {
     "name": "stdout",
     "output_type": "stream",
     "text": [
      "it ends\n"
     ]
    }
   ],
   "source": [
    "import re\n",
    "\n",
    "def string(string):\n",
    "  pattern = r\"\\w$\"\n",
    "  match = re.search(pattern, string)\n",
    "  if match:\n",
    "   return True\n",
    "  else:\n",
    "   return False\n",
    "\n",
    "input_string = input(\"Enter a string: \")\n",
    "if string(input_string):\n",
    "  print(\"it ends\")\n",
    "else:\n",
    "  print(\"its not ends\")"
   ]
  },
  {
   "cell_type": "markdown",
   "id": "9d93a592-ca30-4143-a85e-a97f262db6b6",
   "metadata": {},
   "source": [
    "Q 27"
   ]
  },
  {
   "cell_type": "code",
   "execution_count": 66,
   "id": "5aa74362-f383-49ee-a901-27360c69db1b",
   "metadata": {},
   "outputs": [
    {
     "name": "stdout",
     "output_type": "stream",
     "text": [
      "['#Myname', '#is', '#sruti']\n"
     ]
    }
   ],
   "source": [
    "import re\n",
    "\n",
    "def hash(text):\n",
    "  hashtags = re.findall(r'#\\w+', text)\n",
    "  return hashtags\n",
    "\n",
    "text = 'Hello..#Myname#is#sruti'\n",
    "hashtags = hash(text)\n",
    "print(hashtags)"
   ]
  },
  {
   "cell_type": "markdown",
   "id": "5a4ee1f7-1fbf-4e0b-8d0c-d7afe4dfd02e",
   "metadata": {},
   "source": [
    "Q 28"
   ]
  },
  {
   "cell_type": "code",
   "execution_count": 69,
   "id": "5afa4679-fc72-47f1-8de0-2ca817d5347e",
   "metadata": {},
   "outputs": [
    {
     "name": "stdout",
     "output_type": "stream",
     "text": [
      "Hello my name<is><is>is shruti\n"
     ]
    }
   ],
   "source": [
    "import re\n",
    "\n",
    "input_text = \"Hello my name<U+00A0><U+00BD><is><is><U+00B8><U+0082>is shruti\"\n",
    "\n",
    "pattern = r\"<U\\+\\w{4}>\"\n",
    "output_text = re.sub(pattern, \"\", input_text)\n",
    "\n",
    "print(output_text)"
   ]
  },
  {
   "cell_type": "markdown",
   "id": "3ec8bda5-0c63-4cd5-97c2-c24fb4029204",
   "metadata": {},
   "source": [
    "Q 29"
   ]
  },
  {
   "cell_type": "code",
   "execution_count": null,
   "id": "992999bc-c62c-4f71-b4f3-c9acf4eec8ab",
   "metadata": {},
   "outputs": [],
   "source": [
    "import re\n",
    "\n",
    "with open('q29.txt', 'r') as file:\n",
    "  text = file.read()\n",
    "\n",
    "pattern = r'\\d{2}-\\d{2}-\\d{4}'\n",
    "dates = re.findall(pattern, text)\n",
    "for date in dates:\n",
    "  print(date)"
   ]
  },
  {
   "cell_type": "markdown",
   "id": "7d9d76b4-f39e-4925-bd65-d4f3045a6d7e",
   "metadata": {},
   "source": [
    "Q 30"
   ]
  },
  {
   "cell_type": "code",
   "execution_count": 96,
   "id": "fef0991a-dd59-4016-8b40-f8c2d9b982a1",
   "metadata": {},
   "outputs": [
    {
     "name": "stdout",
     "output_type": "stream",
     "text": [
      " following example creates  ArrayList  a capacity   elements. 4 elements   added   ArrayList   ArrayList  trimmed accordingly.\n"
     ]
    }
   ],
   "source": [
    "import re\n",
    "\n",
    "def remove_words(string):\n",
    "  pattern = re.compile(r'\\b\\w{2,4}\\b')\n",
    "  modified_string = re.sub(pattern, '', string)\n",
    "  return modified_string\n",
    "\n",
    "string = \"The following example creates an ArrayList with a capacity of 50 elements. 4 elements are then added to the ArrayList and the ArrayList is trimmed accordingly.\"\n",
    "output = remove_words(string)\n",
    "print(output)"
   ]
  },
  {
   "cell_type": "code",
   "execution_count": null,
   "id": "729e8977-6a1c-4fd1-bf0f-65ae840b7402",
   "metadata": {},
   "outputs": [],
   "source": [
    "Q 5"
   ]
  },
  {
   "cell_type": "code",
   "execution_count": null,
   "id": "4c203f75-49d9-47ea-a3d8-7562fd05a80b",
   "metadata": {},
   "outputs": [],
   "source": [
    "import re\n",
    "\n",
    "def braces(strings):\n",
    "  pattern = re.compile(r\"\\(\\)\")\n",
    "  modified_string = re.sub(pattern, \"\", strings)\n",
    "  return modified_string\n",
    "\n",
    "strings = [\"example (.com)\", \"hr@fliprobo (.com)\", \"github (.com)\", \"Hello (Data Science World)\", \"Data (Scientist)\"]\n",
    "result = braces(strings)\n",
    "print(result)"
   ]
  }
 ],
 "metadata": {
  "kernelspec": {
   "display_name": "Python 3 (ipykernel)",
   "language": "python",
   "name": "python3"
  },
  "language_info": {
   "codemirror_mode": {
    "name": "ipython",
    "version": 3
   },
   "file_extension": ".py",
   "mimetype": "text/x-python",
   "name": "python",
   "nbconvert_exporter": "python",
   "pygments_lexer": "ipython3",
   "version": "3.11.7"
  }
 },
 "nbformat": 4,
 "nbformat_minor": 5
}
