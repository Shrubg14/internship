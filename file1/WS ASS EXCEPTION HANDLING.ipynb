{
 "cells": [
  {
   "cell_type": "code",
   "execution_count": 1,
   "id": "ed71f11f-9276-477e-880f-6bcd435f7a2c",
   "metadata": {},
   "outputs": [],
   "source": [
    "import selenium\n",
    "import pandas as pd\n",
    "import time\n",
    "from bs4 import BeautifulSoup\n",
    "\n",
    "from selenium import webdriver\n",
    "\n",
    "from selenium.common.exceptions import StaleElementReferenceException, NoSuchElementException \n",
    "\n",
    "import requests\n",
    "\n",
    "from selenium.webdriver.common.by import By"
   ]
  },
  {
   "cell_type": "code",
   "execution_count": 2,
   "id": "f3c0499c-f206-4c1c-a793-d2c5b8f137d3",
   "metadata": {},
   "outputs": [],
   "source": [
    "driver=webdriver.Chrome()\n",
    "driver.maximize_window()"
   ]
  },
  {
   "cell_type": "code",
   "execution_count": 3,
   "id": "98237f4a-fd3a-490a-8381-8354a9d98290",
   "metadata": {},
   "outputs": [],
   "source": [
    "driver.get('https://www.amazon.in/')"
   ]
  },
  {
   "cell_type": "code",
   "execution_count": 4,
   "id": "2723a7f9-c150-4a40-bd1b-92182bcf8d6b",
   "metadata": {},
   "outputs": [
    {
     "name": "stdout",
     "output_type": "stream",
     "text": [
      "what do you want to search here?\n"
     ]
    },
    {
     "name": "stdin",
     "output_type": "stream",
     "text": [
      " Bottle\n"
     ]
    }
   ],
   "source": [
    "print(\"what do you want to search here?\")\n",
    "product=input()"
   ]
  },
  {
   "cell_type": "code",
   "execution_count": 5,
   "id": "496b5018-626d-4f2f-b189-f364d6e5664c",
   "metadata": {},
   "outputs": [],
   "source": [
    "search=driver.find_element(By.XPATH,'/html/body/div[1]/header/div/div[1]/div[2]/div/form/div[2]/div[1]/input')\n",
    "search.send_keys(product)"
   ]
  },
  {
   "cell_type": "code",
   "execution_count": 6,
   "id": "2548257e-5e52-4708-b7aa-fcabe51998fe",
   "metadata": {},
   "outputs": [],
   "source": [
    "search_button=driver.find_element(By.XPATH,'/html/body/div[1]/header/div/div[1]/div[2]/div/form/div[3]/div/span/input')\n",
    "search_button.click()"
   ]
  },
  {
   "cell_type": "markdown",
   "id": "0ccb7116-7ba8-4297-9a11-565f57b108aa",
   "metadata": {},
   "source": [
    "QUESTION NO 2 :"
   ]
  },
  {
   "cell_type": "raw",
   "id": "1882f5b9-c8f9-4735-aa1a-48e51af689a7",
   "metadata": {},
   "source": [
    "url_s=[]\n",
    "start=0\n",
    "end=3\n",
    "for page in range(start,end):\n",
    "    url=driver.find_elements(By.XPATH,'//span[@class=\"a-size-base-plus a-color-base a-text-normal\"]')\n",
    "    for i in url:\n",
    "        url_s.append(i.get_attribute('href'))\n",
    "    next_button=driver.find_elements(By.XPATH,\"/html/body/div[1]/div[1]/div[1]/div[1]/div/span[1]/div[1]/div[68]/div/div/span/a[3]\")\n",
    "        "
   ]
  },
  {
   "cell_type": "raw",
   "id": "9e3c392a-44ee-49db-9c4c-84a728694e80",
   "metadata": {},
   "source": [
    "len(url_s)"
   ]
  },
  {
   "cell_type": "raw",
   "id": "593562ab-263f-4963-aaa1-e9b700a314a2",
   "metadata": {},
   "source": [
    "url_s"
   ]
  },
  {
   "cell_type": "code",
   "execution_count": 21,
   "id": "08b19a5c-eeab-407f-9110-4537506336a0",
   "metadata": {},
   "outputs": [
    {
     "name": "stdout",
     "output_type": "stream",
     "text": [
      "Product urls of page 1 has been scraped.\n",
      "Product urls of page 2 has been scraped.\n",
      "Product urls of page 3 has been scraped.\n"
     ]
    }
   ],
   "source": [
    "start_page = 0\n",
    "end_page = 2\n",
    "urls = []\n",
    "for page in range(start_page,end_page+1):\n",
    "    try:\n",
    "        page_urls = driver.find_elements(By.XPATH,'//span[@class=\"a-size-base-plus a-color-base a-text-normal\"]')\n",
    "        for url in page_urls:\n",
    "            url=url.get_attribute('href')\n",
    "            urls.append(url)                # Appending the url to urls list\n",
    "        print(\"Product urls of page {} has been scraped.\".format(page+1))\n",
    "        nxt_button = driver.find_elements(By.XPATH,'//a[@class=\"s-pagination-item s-pagination-next s-pagination-button s-pagination-separator\"]')      # Locating the next_button which is active\n",
    "        time.sleep(5)                                                         # time delay of 5 seconds\n",
    "        \n",
    "    except StaleElementReferenceException as e:             # Handling StaleElement Exception   \n",
    "        print(\"Stale Exception\")\n",
    "        next_page = nxt_button.get_attribute('href')        # Extracting the url of next page\n",
    "        driver.get(next_page)                               # ReLoading the next page"
   ]
  },
  {
   "cell_type": "code",
   "execution_count": 22,
   "id": "b61b334e-8b04-45bb-9d55-54a62321ef23",
   "metadata": {},
   "outputs": [
    {
     "data": {
      "text/plain": [
       "210"
      ]
     },
     "execution_count": 22,
     "metadata": {},
     "output_type": "execute_result"
    }
   ],
   "source": [
    "len(urls)"
   ]
  },
  {
   "cell_type": "code",
   "execution_count": 24,
   "id": "5c35b1df-5616-4ff0-a67e-9f0f02423b49",
   "metadata": {},
   "outputs": [
    {
     "ename": "InvalidArgumentException",
     "evalue": "Message: invalid argument: 'url' must be a string\n  (Session info: chrome=124.0.6367.119)\nStacktrace:\n\tGetHandleVerifier [0x00007FF797441522+60802]\n\t(No symbol) [0x00007FF7973BAC22]\n\t(No symbol) [0x00007FF797277CE4]\n\t(No symbol) [0x00007FF79730AC3E]\n\t(No symbol) [0x00007FF7972EAB7A]\n\t(No symbol) [0x00007FF79730A224]\n\t(No symbol) [0x00007FF7972EA923]\n\t(No symbol) [0x00007FF7972B8FEC]\n\t(No symbol) [0x00007FF7972B9C21]\n\tGetHandleVerifier [0x00007FF7977441BD+3217949]\n\tGetHandleVerifier [0x00007FF797786157+3488183]\n\tGetHandleVerifier [0x00007FF79777F0DF+3459391]\n\tGetHandleVerifier [0x00007FF7974FB8E6+823622]\n\t(No symbol) [0x00007FF7973C5FBF]\n\t(No symbol) [0x00007FF7973C0EE4]\n\t(No symbol) [0x00007FF7973C1072]\n\t(No symbol) [0x00007FF7973B18C4]\n\tBaseThreadInitThunk [0x00007FFFE93B7374+20]\n\tRtlUserThreadStart [0x00007FFFE9E9CC91+33]\n",
     "output_type": "error",
     "traceback": [
      "\u001b[1;31m---------------------------------------------------------------------------\u001b[0m",
      "\u001b[1;31mInvalidArgumentException\u001b[0m                  Traceback (most recent call last)",
      "Cell \u001b[1;32mIn[24], line 12\u001b[0m\n\u001b[0;32m     10\u001b[0m \u001b[38;5;66;03m#go to each items url to fetch data   \u001b[39;00m\n\u001b[0;32m     11\u001b[0m \u001b[38;5;28;01mfor\u001b[39;00m a \u001b[38;5;129;01min\u001b[39;00m urls:\n\u001b[1;32m---> 12\u001b[0m     driver\u001b[38;5;241m.\u001b[39mget(a)\n\u001b[0;32m     13\u001b[0m     \u001b[38;5;66;03m#brand\u001b[39;00m\n\u001b[0;32m     14\u001b[0m     \u001b[38;5;28;01mtry\u001b[39;00m:\n",
      "File \u001b[1;32m~\\anaconda3\\Lib\\site-packages\\selenium\\webdriver\\remote\\webdriver.py:363\u001b[0m, in \u001b[0;36mWebDriver.get\u001b[1;34m(self, url)\u001b[0m\n\u001b[0;32m    361\u001b[0m \u001b[38;5;28;01mdef\u001b[39;00m \u001b[38;5;21mget\u001b[39m(\u001b[38;5;28mself\u001b[39m, url: \u001b[38;5;28mstr\u001b[39m) \u001b[38;5;241m-\u001b[39m\u001b[38;5;241m>\u001b[39m \u001b[38;5;28;01mNone\u001b[39;00m:\n\u001b[0;32m    362\u001b[0m \u001b[38;5;250m    \u001b[39m\u001b[38;5;124;03m\"\"\"Loads a web page in the current browser session.\"\"\"\u001b[39;00m\n\u001b[1;32m--> 363\u001b[0m     \u001b[38;5;28mself\u001b[39m\u001b[38;5;241m.\u001b[39mexecute(Command\u001b[38;5;241m.\u001b[39mGET, {\u001b[38;5;124m\"\u001b[39m\u001b[38;5;124murl\u001b[39m\u001b[38;5;124m\"\u001b[39m: url})\n",
      "File \u001b[1;32m~\\anaconda3\\Lib\\site-packages\\selenium\\webdriver\\remote\\webdriver.py:354\u001b[0m, in \u001b[0;36mWebDriver.execute\u001b[1;34m(self, driver_command, params)\u001b[0m\n\u001b[0;32m    352\u001b[0m response \u001b[38;5;241m=\u001b[39m \u001b[38;5;28mself\u001b[39m\u001b[38;5;241m.\u001b[39mcommand_executor\u001b[38;5;241m.\u001b[39mexecute(driver_command, params)\n\u001b[0;32m    353\u001b[0m \u001b[38;5;28;01mif\u001b[39;00m response:\n\u001b[1;32m--> 354\u001b[0m     \u001b[38;5;28mself\u001b[39m\u001b[38;5;241m.\u001b[39merror_handler\u001b[38;5;241m.\u001b[39mcheck_response(response)\n\u001b[0;32m    355\u001b[0m     response[\u001b[38;5;124m\"\u001b[39m\u001b[38;5;124mvalue\u001b[39m\u001b[38;5;124m\"\u001b[39m] \u001b[38;5;241m=\u001b[39m \u001b[38;5;28mself\u001b[39m\u001b[38;5;241m.\u001b[39m_unwrap_value(response\u001b[38;5;241m.\u001b[39mget(\u001b[38;5;124m\"\u001b[39m\u001b[38;5;124mvalue\u001b[39m\u001b[38;5;124m\"\u001b[39m, \u001b[38;5;28;01mNone\u001b[39;00m))\n\u001b[0;32m    356\u001b[0m     \u001b[38;5;28;01mreturn\u001b[39;00m response\n",
      "File \u001b[1;32m~\\anaconda3\\Lib\\site-packages\\selenium\\webdriver\\remote\\errorhandler.py:229\u001b[0m, in \u001b[0;36mErrorHandler.check_response\u001b[1;34m(self, response)\u001b[0m\n\u001b[0;32m    227\u001b[0m         alert_text \u001b[38;5;241m=\u001b[39m value[\u001b[38;5;124m\"\u001b[39m\u001b[38;5;124malert\u001b[39m\u001b[38;5;124m\"\u001b[39m]\u001b[38;5;241m.\u001b[39mget(\u001b[38;5;124m\"\u001b[39m\u001b[38;5;124mtext\u001b[39m\u001b[38;5;124m\"\u001b[39m)\n\u001b[0;32m    228\u001b[0m     \u001b[38;5;28;01mraise\u001b[39;00m exception_class(message, screen, stacktrace, alert_text)  \u001b[38;5;66;03m# type: ignore[call-arg]  # mypy is not smart enough here\u001b[39;00m\n\u001b[1;32m--> 229\u001b[0m \u001b[38;5;28;01mraise\u001b[39;00m exception_class(message, screen, stacktrace)\n",
      "\u001b[1;31mInvalidArgumentException\u001b[0m: Message: invalid argument: 'url' must be a string\n  (Session info: chrome=124.0.6367.119)\nStacktrace:\n\tGetHandleVerifier [0x00007FF797441522+60802]\n\t(No symbol) [0x00007FF7973BAC22]\n\t(No symbol) [0x00007FF797277CE4]\n\t(No symbol) [0x00007FF79730AC3E]\n\t(No symbol) [0x00007FF7972EAB7A]\n\t(No symbol) [0x00007FF79730A224]\n\t(No symbol) [0x00007FF7972EA923]\n\t(No symbol) [0x00007FF7972B8FEC]\n\t(No symbol) [0x00007FF7972B9C21]\n\tGetHandleVerifier [0x00007FF7977441BD+3217949]\n\tGetHandleVerifier [0x00007FF797786157+3488183]\n\tGetHandleVerifier [0x00007FF79777F0DF+3459391]\n\tGetHandleVerifier [0x00007FF7974FB8E6+823622]\n\t(No symbol) [0x00007FF7973C5FBF]\n\t(No symbol) [0x00007FF7973C0EE4]\n\t(No symbol) [0x00007FF7973C1072]\n\t(No symbol) [0x00007FF7973B18C4]\n\tBaseThreadInitThunk [0x00007FFFE93B7374+20]\n\tRtlUserThreadStart [0x00007FFFE9E9CC91+33]\n"
     ]
    }
   ],
   "source": [
    "#create empty list\n",
    "brand_name=[]\n",
    "product_name=[]\n",
    "product_price=[]\n",
    "return_exchange=[]\n",
    "Expected_delivery=[]\n",
    "availability=[]\n",
    "product_url=[]\n",
    "     \n",
    "#go to each items url to fetch data   \n",
    "for a in urls:\n",
    "    driver.get(a)\n",
    "    #brand\n",
    "    try:\n",
    "        brands=driver.find_elements(By.XPATH,'//span[@class=\"a-size-base a-text-bold\"]')\n",
    "        brand_name.append(brands.text)\n",
    "    except NoSuchElementException as e:\n",
    "        brand_name.append(\"--\")\n",
    "    \n",
    "    #scrap title for each item\n",
    "    try:\n",
    "        names=driver.find_elements(By.XPATH,'//span[@class=\"a-size-base-plus a-color-base a-text-normal\"]')\n",
    "        product_name.append(names.text)\n",
    "    except NoSuchElementException as e:\n",
    "        product_namee.append(\"--\")\n",
    "    \n",
    "    #price\n",
    "    try:\n",
    "        prices=driver.find_elements(By.XPATH,'//span[@class=\"a-price\"]')\n",
    "        product_price.append(prices.text)\n",
    "    except NoSuchElementException as e:\n",
    "        product_price.append(\"--\")\n",
    "        \n",
    "    #return/exchange\n",
    "    try:\n",
    "        returns=driver.find_elements(By.XPATH,'//span[@class=\"a-size-small a-color-link a-text-normal\"]')\n",
    "        return_exchange.append(returns.text)\n",
    "    except NoSuchElementException as e:\n",
    "        return_exchange.append(\"--\")\n",
    "\n",
    "    #Expected_delivery\n",
    "    try:\n",
    "        delivery=driver.find_elements(By.XPATH,\"//div[@class='a-row a-spacing-top-base']\")\n",
    "        Expected_delivery.append(delivery.text)\n",
    "    except NoSuchElementException as e:\n",
    "        Expected_delivery.append(\"--\")\n",
    "        \n",
    "    \n",
    "     #product image url\n",
    "    try:\n",
    "        url=driver.find_elements(By.XPATH,'//span[@class=\"a-size-base-plus a-color-base a-text-normal\"]')\n",
    "        product_url.append(url.get_attribute(\"href\"))\n",
    "    except NoSuchElementException as e:\n",
    "        product_url.append(\"--\")\n",
    "        \n",
    "print(brand_name[0:2])\n",
    "print(product_name[0:2])\n",
    "print(product_price[0:2])\n",
    "print(return_exchange[0:2])\n",
    "print(Expected_delivery[0:2])\n",
    "print(product_url[0:2])"
   ]
  },
  {
   "cell_type": "code",
   "execution_count": null,
   "id": "ea192e40-9d82-47c7-b54e-f66368276695",
   "metadata": {},
   "outputs": [],
   "source": []
  },
  {
   "cell_type": "code",
   "execution_count": null,
   "id": "87d3d8e6-8e28-4e49-8a57-876839ca2e1d",
   "metadata": {},
   "outputs": [],
   "source": []
  },
  {
   "cell_type": "markdown",
   "id": "796da574-7833-4960-95f8-672af9d802f2",
   "metadata": {},
   "source": [
    "QUESTION NO 3 :"
   ]
  },
  {
   "cell_type": "code",
   "execution_count": 82,
   "id": "7fd8a5c1-9fbf-45a4-a0e2-36778477b08f",
   "metadata": {},
   "outputs": [],
   "source": [
    "import urllib.request\n",
    "import os"
   ]
  },
  {
   "cell_type": "code",
   "execution_count": 76,
   "id": "88840b31-66ef-4674-8892-dce497a0271e",
   "metadata": {},
   "outputs": [],
   "source": [
    "driver=webdriver.Chrome()"
   ]
  },
  {
   "cell_type": "code",
   "execution_count": 68,
   "id": "8225dff4-a779-4901-817e-a561f9de136a",
   "metadata": {},
   "outputs": [],
   "source": [
    "driver.get('https://images.google.com/')"
   ]
  },
  {
   "cell_type": "code",
   "execution_count": 69,
   "id": "7134f681-66e5-4a8d-bd66-e6c0619132ad",
   "metadata": {},
   "outputs": [],
   "source": [
    "search=driver.find_element(By.XPATH,'/html/body/div[1]/div[3]/form/div[1]/div[1]/div[1]/div/div[2]/textarea')\n",
    "search.send_keys(\"Fruits\")"
   ]
  },
  {
   "cell_type": "code",
   "execution_count": 70,
   "id": "1ca7857b-cace-4327-b00d-7619a81ccf9e",
   "metadata": {},
   "outputs": [],
   "source": [
    "search_button=driver.find_element(By.XPATH,'/html/body/div[1]/div[3]/form/div[1]/div[1]/div[1]/button/div/span')\n",
    "search_button.click()"
   ]
  },
  {
   "cell_type": "code",
   "execution_count": 71,
   "id": "0c790b21-7793-4436-af16-f29e5c49cb30",
   "metadata": {},
   "outputs": [],
   "source": [
    "images=driver.find_elements(By.XPATH,'//img[@class=\"YQ4gaf\"]')"
   ]
  },
  {
   "cell_type": "code",
   "execution_count": 73,
   "id": "08b66bb0-07e1-4d6d-a629-4b76130b6ae9",
   "metadata": {},
   "outputs": [
    {
     "name": "stdout",
     "output_type": "stream",
     "text": [
      "Number of images downloaded = 10\r"
     ]
    }
   ],
   "source": [
    "try:\n",
    "    os.mkdir(\"fruit_images\")\n",
    "except FileExistsError:\n",
    "    pass\n",
    "\n",
    "count = 0\n",
    "for i in images[0:10]:  \n",
    "    src=i.get_attribute('src')\n",
    "    count+=1\n",
    "    urllib.request.urlretrieve(src, os.path.join('fruit_images','image'+str(count)+'.jpg')) \n",
    "    print(\"Number of images downloaded = \"+str(count),end='\\r')"
   ]
  },
  {
   "cell_type": "code",
   "execution_count": 77,
   "id": "5cfecba7-27e7-47d7-aaa4-1d5b6ab0b26f",
   "metadata": {},
   "outputs": [],
   "source": [
    "driver.get('https://images.google.com/')\n",
    "search=driver.find_element(By.XPATH,'/html/body/div[1]/div[3]/form/div[1]/div[1]/div[1]/div/div[2]/textarea')\n",
    "search.send_keys(\"cars\")\n",
    "\n",
    "search_button=driver.find_element(By.XPATH,'/html/body/div[1]/div[3]/form/div[1]/div[1]/div[1]/button/div/span')\n",
    "search_button.click()"
   ]
  },
  {
   "cell_type": "code",
   "execution_count": 80,
   "id": "d64a0ce7-df16-4b96-9986-57875ab187b6",
   "metadata": {},
   "outputs": [],
   "source": [
    "car_images=driver.find_elements(By.XPATH,'//img[@class=\"YQ4gaf\"]')"
   ]
  },
  {
   "cell_type": "code",
   "execution_count": 84,
   "id": "2792cf0d-a33b-48b5-aede-aa3dfdf92ea0",
   "metadata": {},
   "outputs": [
    {
     "name": "stdout",
     "output_type": "stream",
     "text": [
      "Number of images downloaded = 10\r"
     ]
    }
   ],
   "source": [
    "try:\n",
    "    os.mkdir(\"car_images\")\n",
    "except FileExistsError:\n",
    "    pass\n",
    "\n",
    "count = 0\n",
    "for i in car_images[0:10]:  \n",
    "    src=i.get_attribute('src')\n",
    "    count+=1\n",
    "    urllib.request.urlretrieve(src, os.path.join('car_images','image'+str(count)+'.jpg')) \n",
    "    print(\"Number of images downloaded = \"+str(count),end='\\r')"
   ]
  },
  {
   "cell_type": "code",
   "execution_count": 85,
   "id": "88cad397-ec45-47c9-bc57-f23b8c89118d",
   "metadata": {},
   "outputs": [],
   "source": [
    "driver.get('https://images.google.com/')\n",
    "search=driver.find_element(By.XPATH,'/html/body/div[1]/div[3]/form/div[1]/div[1]/div[1]/div/div[2]/textarea')\n",
    "search.send_keys(\"Machine Learning\")\n",
    "\n",
    "search_button=driver.find_element(By.XPATH,'/html/body/div[1]/div[3]/form/div[1]/div[1]/div[1]/button/div/span')\n",
    "search_button.click()"
   ]
  },
  {
   "cell_type": "code",
   "execution_count": 86,
   "id": "fb7a4234-666d-454a-8ca5-13150f7d3b14",
   "metadata": {},
   "outputs": [],
   "source": [
    "ml_images=driver.find_elements(By.XPATH,'//img[@class=\"YQ4gaf\"]')"
   ]
  },
  {
   "cell_type": "code",
   "execution_count": 87,
   "id": "b23a950e-7517-4056-94e8-ff7e50a88058",
   "metadata": {},
   "outputs": [
    {
     "name": "stdout",
     "output_type": "stream",
     "text": [
      "Number of images downloaded = 10\r"
     ]
    }
   ],
   "source": [
    "try:\n",
    "    os.mkdir(\"ml_images\")\n",
    "except FileExistsError:\n",
    "    pass\n",
    "\n",
    "count = 0\n",
    "for i in ml_images[0:10]:\n",
    "    src=i.get_attribute('src')\n",
    "    count+=1\n",
    "    urllib.request.urlretrieve(src, os.path.join('ml_images','image'+str(count)+'.jpg'))\n",
    "    print(\"Number of images downloaded = \"+str(count),end='\\r')"
   ]
  },
  {
   "cell_type": "code",
   "execution_count": 88,
   "id": "6dc5d3cb-cc5e-4187-b409-9e11fa9b5f5e",
   "metadata": {},
   "outputs": [],
   "source": [
    "driver.get('https://images.google.com/')\n",
    "search=driver.find_element(By.XPATH,'/html/body/div[1]/div[3]/form/div[1]/div[1]/div[1]/div/div[2]/textarea')\n",
    "search.send_keys(\"Guitar\")\n",
    "\n",
    "search_button=driver.find_element(By.XPATH,'/html/body/div[1]/div[3]/form/div[1]/div[1]/div[1]/button/div/span')\n",
    "search_button.click()"
   ]
  },
  {
   "cell_type": "code",
   "execution_count": 90,
   "id": "8a674665-6cd0-4229-b89d-b93e5c36ee35",
   "metadata": {},
   "outputs": [],
   "source": [
    "Guitar_images=driver.find_elements(By.XPATH,'//img[@class=\"YQ4gaf\"]')"
   ]
  },
  {
   "cell_type": "code",
   "execution_count": 91,
   "id": "f7522f6b-8c12-49fe-95dd-3a5c9fa23fe0",
   "metadata": {},
   "outputs": [
    {
     "name": "stdout",
     "output_type": "stream",
     "text": [
      "Number of images downloaded = 10\r"
     ]
    }
   ],
   "source": [
    "try:\n",
    "    os.mkdir(\"Guitar_images\")\n",
    "except FileExistsError:\n",
    "    pass\n",
    "\n",
    "count = 0\n",
    "for i in Guitar_images[0:10]:\n",
    "    src=i.get_attribute('src')\n",
    "    count+=1\n",
    "    urllib.request.urlretrieve(src, os.path.join('Guitar_images','image'+str(count)+'.jpg'))\n",
    "    print(\"Number of images downloaded = \"+str(count),end='\\r')"
   ]
  },
  {
   "cell_type": "code",
   "execution_count": 92,
   "id": "86923770-59a1-44d9-8c34-89bc438dc692",
   "metadata": {},
   "outputs": [],
   "source": [
    "driver.get('https://images.google.com/')\n",
    "search=driver.find_element(By.XPATH,'/html/body/div[1]/div[3]/form/div[1]/div[1]/div[1]/div/div[2]/textarea')\n",
    "search.send_keys(\"Cakes\")\n",
    "\n",
    "search_button=driver.find_element(By.XPATH,'/html/body/div[1]/div[3]/form/div[1]/div[1]/div[1]/button/div/span')\n",
    "search_button.click()"
   ]
  },
  {
   "cell_type": "code",
   "execution_count": 93,
   "id": "a95fd7fd-516f-4222-a007-db614e96d9cc",
   "metadata": {},
   "outputs": [],
   "source": [
    "Cakes_images=driver.find_elements(By.XPATH,'//img[@class=\"YQ4gaf\"]')"
   ]
  },
  {
   "cell_type": "code",
   "execution_count": 94,
   "id": "5a0f26c6-f1ab-4aa8-bc7e-8e4efc0e5bfb",
   "metadata": {},
   "outputs": [
    {
     "name": "stdout",
     "output_type": "stream",
     "text": [
      "Number of images downloaded = 10\r"
     ]
    }
   ],
   "source": [
    "try:\n",
    "    os.mkdir(\"Cakes_images\")\n",
    "except FileExistsError:\n",
    "    pass\n",
    "\n",
    "count = 0\n",
    "for i in Cakes_images[0:10]:\n",
    "    src=i.get_attribute('src')\n",
    "    count+=1\n",
    "    urllib.request.urlretrieve(src, os.path.join('Cakes_images','image'+str(count)+'.jpg'))\n",
    "    print(\"Number of images downloaded = \"+str(count),end='\\r')"
   ]
  },
  {
   "cell_type": "code",
   "execution_count": null,
   "id": "0601a7cd-2ed9-4cd7-a649-1751c87e09d8",
   "metadata": {},
   "outputs": [],
   "source": []
  },
  {
   "cell_type": "markdown",
   "id": "2de7ac7b-acf0-4e19-adb7-b4d44b4f6c63",
   "metadata": {},
   "source": [
    "QUESTION NO 4 :"
   ]
  },
  {
   "cell_type": "code",
   "execution_count": 95,
   "id": "1fe71c54-8f62-440d-8820-b717addabc11",
   "metadata": {},
   "outputs": [],
   "source": [
    "driver=webdriver.Chrome()"
   ]
  },
  {
   "cell_type": "code",
   "execution_count": 97,
   "id": "2413e17b-24f2-4ffc-a208-2521a728fd19",
   "metadata": {},
   "outputs": [],
   "source": [
    "driver.get('https://www.flipkart.com/')"
   ]
  },
  {
   "cell_type": "code",
   "execution_count": 98,
   "id": "d6641267-0ea2-4b14-8425-43ab8cd5bf21",
   "metadata": {},
   "outputs": [],
   "source": [
    "search=driver.find_element(By.XPATH,'/html/body/div[1]/div/div[1]/div/div/div/div/div[1]/div/div/div/div[1]/div[1]/header/div[1]/div[2]/form/div/div/input')\n",
    "search.send_keys(\"smartphone\")\n",
    "\n",
    "search_button=driver.find_element(By.XPATH,'/html/body/div[1]/div/div[1]/div/div/div/div/div[1]/div/div/div/div[1]/div[1]/header/div[1]/div[2]/form/div/button')\n",
    "search_button.click()"
   ]
  },
  {
   "cell_type": "code",
   "execution_count": 106,
   "id": "87423ff1-b02d-4352-8191-0c4b4d004cee",
   "metadata": {},
   "outputs": [
    {
     "data": {
      "text/plain": [
       "['https://www.flipkart.com/redmi-note-13-pro-5g-midnight-black-128-gb/p/itmfacedc874d7a5?pid=MOBGWFHFKHZDTC8Z&lid=LSTMOBGWFHFKHZDTC8ZDKWNMI&marketplace=FLIPKART&q=smartphone&store=tyy%2F4io&srno=s_1_1&otracker=search&otracker1=search&fm=organic&iid=en_5M351cWE9I5Lxu_9Ph5R3tCcRN843rRrVm-pbpfFhZYcUbHLP3z2ZCWYQWDtuQmHjKwxXjdwk5PxkLr8UjSwG_UFjCTyOHoHZs-Z5_PS_w0%3D&ppt=hp&ppn=homepage&ssid=pr24kjkjb40000001721316656499&qH=1036ba3c4ed2c021',\n",
       " 'https://www.flipkart.com/redmi-note-13-pro-5g-arctic-white-128-gb/p/itm082842b530e7e?pid=MOBGWFHF8BAKMGGS&lid=LSTMOBGWFHF8BAKMGGS0AXKFC&marketplace=FLIPKART&q=smartphone&store=tyy%2F4io&srno=s_1_2&otracker=search&otracker1=search&fm=organic&iid=en_5M351cWE9I5Lxu_9Ph5R3tCcRN843rRrVm-pbpfFhZZxPzhHss85BsD2FbFx2M8teBdB2VxiwEt4KNB0Xf2NLvUFjCTyOHoHZs-Z5_PS_w0%3D&ppt=hp&ppn=homepage&ssid=pr24kjkjb40000001721316656499&qH=1036ba3c4ed2c021']"
      ]
     },
     "execution_count": 106,
     "metadata": {},
     "output_type": "execute_result"
    }
   ],
   "source": [
    "urls=[]\n",
    "for i in driver.find_elements(By.XPATH,'//a[@class=\"CGtC98\"]'):\n",
    "    urls.append(i.get_attribute(\"href\"))\n",
    "urls[0:2]\n"
   ]
  },
  {
   "cell_type": "code",
   "execution_count": 104,
   "id": "390979eb-9fd4-4a80-92f2-8a6405a86683",
   "metadata": {},
   "outputs": [],
   "source": [
    "brand_list=[]\n",
    "smartphone=[]\n",
    "color_list=[]\n",
    "ram_list=[]\n",
    "rom_list=[]\n",
    "primary_camera_list=[]\n",
    "secondary_camera_list=[]\n",
    "display_list=[]\n",
    "battery_list=[]\n",
    "price_list=[]\n",
    "product_url=[]"
   ]
  },
  {
   "cell_type": "code",
   "execution_count": 111,
   "id": "6a8daab6-f855-461e-9538-3f7ace6b08ff",
   "metadata": {},
   "outputs": [
    {
     "ename": "WebDriverException",
     "evalue": "Message: disconnected: not connected to DevTools\n  (failed to check if window was closed: disconnected: not connected to DevTools)\n  (Session info: chrome=124.0.6367.119)\nStacktrace:\n\tGetHandleVerifier [0x00007FF797441522+60802]\n\t(No symbol) [0x00007FF7973BAC22]\n\t(No symbol) [0x00007FF797277CE4]\n\t(No symbol) [0x00007FF79725FA14]\n\t(No symbol) [0x00007FF79725F8E0]\n\t(No symbol) [0x00007FF79727A291]\n\t(No symbol) [0x00007FF7973098F9]\n\t(No symbol) [0x00007FF7972EA923]\n\t(No symbol) [0x00007FF7972B8FEC]\n\t(No symbol) [0x00007FF7972B9C21]\n\tGetHandleVerifier [0x00007FF7977441BD+3217949]\n\tGetHandleVerifier [0x00007FF797786157+3488183]\n\tGetHandleVerifier [0x00007FF79777F0DF+3459391]\n\tGetHandleVerifier [0x00007FF7974FB8E6+823622]\n\t(No symbol) [0x00007FF7973C5FBF]\n\t(No symbol) [0x00007FF7973C0EE4]\n\t(No symbol) [0x00007FF7973C1072]\n\t(No symbol) [0x00007FF7973B18C4]\n\tBaseThreadInitThunk [0x00007FFFE93B7374+20]\n\tRtlUserThreadStart [0x00007FFFE9E9CC91+33]\n",
     "output_type": "error",
     "traceback": [
      "\u001b[1;31m---------------------------------------------------------------------------\u001b[0m",
      "\u001b[1;31mWebDriverException\u001b[0m                        Traceback (most recent call last)",
      "Cell \u001b[1;32mIn[111], line 2\u001b[0m\n\u001b[0;32m      1\u001b[0m \u001b[38;5;28;01mfor\u001b[39;00m a \u001b[38;5;129;01min\u001b[39;00m urls:\n\u001b[1;32m----> 2\u001b[0m     driver\u001b[38;5;241m.\u001b[39mget(a)\n\u001b[0;32m      3\u001b[0m     \u001b[38;5;66;03m#brand (as the brand is not mentioned on web page we will scrap phone name only as brand)\u001b[39;00m\n\u001b[0;32m      4\u001b[0m     brand\u001b[38;5;241m=\u001b[39mdriver\u001b[38;5;241m.\u001b[39mfind_elements(By\u001b[38;5;241m.\u001b[39mXPATH,\u001b[38;5;124m'\u001b[39m\u001b[38;5;124m//a[@class=\u001b[39m\u001b[38;5;124m\"\u001b[39m\u001b[38;5;124mCGtC98\u001b[39m\u001b[38;5;124m\"\u001b[39m\u001b[38;5;124m]\u001b[39m\u001b[38;5;124m'\u001b[39m)\n",
      "File \u001b[1;32m~\\anaconda3\\Lib\\site-packages\\selenium\\webdriver\\remote\\webdriver.py:363\u001b[0m, in \u001b[0;36mWebDriver.get\u001b[1;34m(self, url)\u001b[0m\n\u001b[0;32m    361\u001b[0m \u001b[38;5;28;01mdef\u001b[39;00m \u001b[38;5;21mget\u001b[39m(\u001b[38;5;28mself\u001b[39m, url: \u001b[38;5;28mstr\u001b[39m) \u001b[38;5;241m-\u001b[39m\u001b[38;5;241m>\u001b[39m \u001b[38;5;28;01mNone\u001b[39;00m:\n\u001b[0;32m    362\u001b[0m \u001b[38;5;250m    \u001b[39m\u001b[38;5;124;03m\"\"\"Loads a web page in the current browser session.\"\"\"\u001b[39;00m\n\u001b[1;32m--> 363\u001b[0m     \u001b[38;5;28mself\u001b[39m\u001b[38;5;241m.\u001b[39mexecute(Command\u001b[38;5;241m.\u001b[39mGET, {\u001b[38;5;124m\"\u001b[39m\u001b[38;5;124murl\u001b[39m\u001b[38;5;124m\"\u001b[39m: url})\n",
      "File \u001b[1;32m~\\anaconda3\\Lib\\site-packages\\selenium\\webdriver\\remote\\webdriver.py:354\u001b[0m, in \u001b[0;36mWebDriver.execute\u001b[1;34m(self, driver_command, params)\u001b[0m\n\u001b[0;32m    352\u001b[0m response \u001b[38;5;241m=\u001b[39m \u001b[38;5;28mself\u001b[39m\u001b[38;5;241m.\u001b[39mcommand_executor\u001b[38;5;241m.\u001b[39mexecute(driver_command, params)\n\u001b[0;32m    353\u001b[0m \u001b[38;5;28;01mif\u001b[39;00m response:\n\u001b[1;32m--> 354\u001b[0m     \u001b[38;5;28mself\u001b[39m\u001b[38;5;241m.\u001b[39merror_handler\u001b[38;5;241m.\u001b[39mcheck_response(response)\n\u001b[0;32m    355\u001b[0m     response[\u001b[38;5;124m\"\u001b[39m\u001b[38;5;124mvalue\u001b[39m\u001b[38;5;124m\"\u001b[39m] \u001b[38;5;241m=\u001b[39m \u001b[38;5;28mself\u001b[39m\u001b[38;5;241m.\u001b[39m_unwrap_value(response\u001b[38;5;241m.\u001b[39mget(\u001b[38;5;124m\"\u001b[39m\u001b[38;5;124mvalue\u001b[39m\u001b[38;5;124m\"\u001b[39m, \u001b[38;5;28;01mNone\u001b[39;00m))\n\u001b[0;32m    356\u001b[0m     \u001b[38;5;28;01mreturn\u001b[39;00m response\n",
      "File \u001b[1;32m~\\anaconda3\\Lib\\site-packages\\selenium\\webdriver\\remote\\errorhandler.py:229\u001b[0m, in \u001b[0;36mErrorHandler.check_response\u001b[1;34m(self, response)\u001b[0m\n\u001b[0;32m    227\u001b[0m         alert_text \u001b[38;5;241m=\u001b[39m value[\u001b[38;5;124m\"\u001b[39m\u001b[38;5;124malert\u001b[39m\u001b[38;5;124m\"\u001b[39m]\u001b[38;5;241m.\u001b[39mget(\u001b[38;5;124m\"\u001b[39m\u001b[38;5;124mtext\u001b[39m\u001b[38;5;124m\"\u001b[39m)\n\u001b[0;32m    228\u001b[0m     \u001b[38;5;28;01mraise\u001b[39;00m exception_class(message, screen, stacktrace, alert_text)  \u001b[38;5;66;03m# type: ignore[call-arg]  # mypy is not smart enough here\u001b[39;00m\n\u001b[1;32m--> 229\u001b[0m \u001b[38;5;28;01mraise\u001b[39;00m exception_class(message, screen, stacktrace)\n",
      "\u001b[1;31mWebDriverException\u001b[0m: Message: disconnected: not connected to DevTools\n  (failed to check if window was closed: disconnected: not connected to DevTools)\n  (Session info: chrome=124.0.6367.119)\nStacktrace:\n\tGetHandleVerifier [0x00007FF797441522+60802]\n\t(No symbol) [0x00007FF7973BAC22]\n\t(No symbol) [0x00007FF797277CE4]\n\t(No symbol) [0x00007FF79725FA14]\n\t(No symbol) [0x00007FF79725F8E0]\n\t(No symbol) [0x00007FF79727A291]\n\t(No symbol) [0x00007FF7973098F9]\n\t(No symbol) [0x00007FF7972EA923]\n\t(No symbol) [0x00007FF7972B8FEC]\n\t(No symbol) [0x00007FF7972B9C21]\n\tGetHandleVerifier [0x00007FF7977441BD+3217949]\n\tGetHandleVerifier [0x00007FF797786157+3488183]\n\tGetHandleVerifier [0x00007FF79777F0DF+3459391]\n\tGetHandleVerifier [0x00007FF7974FB8E6+823622]\n\t(No symbol) [0x00007FF7973C5FBF]\n\t(No symbol) [0x00007FF7973C0EE4]\n\t(No symbol) [0x00007FF7973C1072]\n\t(No symbol) [0x00007FF7973B18C4]\n\tBaseThreadInitThunk [0x00007FFFE93B7374+20]\n\tRtlUserThreadStart [0x00007FFFE9E9CC91+33]\n"
     ]
    }
   ],
   "source": [
    "for a in urls:\n",
    "    driver.get(a)\n",
    "    brand=driver.find_elements(By.XPATH,'//a[@class=\"CGtC98\"]')\n",
    "    brand_list.append(brand.text)\n",
    "    \n",
    "    #smartphone\n",
    "    title=driver.find_elements(By.XPATH,'//a[@class=\"CGtC98\"]')\n",
    "    smartphone.append(title.text)\n",
    "    \n",
    "    #color\n",
    "    color=driver.find_elements(By.XPATH,'//li[@class=\"aJWdJI\"]/a/div')\n",
    "    color_list.append(color.text)\n",
    "    #ram\n",
    "    try:\n",
    "        ram=driver.find_elements(By.XPATH,'/html/body/div[1]/div/div[3]/div[1]/div[2]/div[6]/div/div[3]/div[1]/div/ul/li[1]')\n",
    "        ram_list.append(ram.text) \n",
    "    except NoSuchElementException as e:\n",
    "        ram_list.append(\"--\") \n",
    "    #storage/rom\n",
    "    try:\n",
    "        rom=driver.find_elements(By.XPATH,'/html/body/div[1]/div/div[3]/div[1]/div[2]/div[6]/div/div[2]/div[1]/div/ul/li[1]')\n",
    "        rom_list.append(rom.text)\n",
    "    except NoSuchElementException as e:\n",
    "        rom_list.append(\"--\")\n",
    "    #primary camera \n",
    "    try:\n",
    "        pcam=driver.find_elements(By.XPATH,'/html/body/div[1]/div/div[3]/div[1]/div[2]/div[9]/div[5]/div/div[2]/div[1]/div[5]/table/tbody/tr[2]/td[2]/ul/li')\n",
    "        primary_camera_list.append(pcam.text)\n",
    "    except NoSuchElementException as e:\n",
    "        primary_camera_list.append(\"--\")\n",
    "    #secondary camera \n",
    "    try:\n",
    "        scam=driver.find_elements(By.XPATH,'/html/body/div[1]/div/div[3]/div[1]/div[2]/div[9]/div[5]/div/div[2]/div[1]/div[5]/table/tbody/tr[6]/td[2]/ul/li')\n",
    "        secondary_camera_list.append(scam.text) \n",
    "    except NoSuchElementException as e:\n",
    "        secondary_camera_list.append(\"--\") \n",
    "    #display\n",
    "    try:\n",
    "        display=driver.find_elements(By.XPATH,'/html/body/div[1]/div/div[3]/div[1]/div[2]/div[9]/div[5]/div/div[2]/div[1]/div[2]/table/tbody/tr[1]/td[2]/ul/li')\n",
    "        display_list.append(display.text) \n",
    "    except NoSuchElementException as e:\n",
    "        display_list.append(\"--\")\n",
    "    \n",
    "    #battery\n",
    "    try:\n",
    "        battery=driver.find_elements(By.XPATH,'/html/body/div[1]/div/div[3]/div[1]/div[2]/div[9]/div[5]/div/div[2]/div[1]/div[10]/table/tbody/tr[1]/td[2]/ul/li')\n",
    "        battery_list.append(battery.text) \n",
    "    except NoSuchElementException as e:\n",
    "        battery_list.append(\"--\") \n",
    "    #price\n",
    "    price=driver.find_elements(By.XPATH,'//div[@class=\"cN1yYO\"]')\n",
    "    price_list.append(price.text)\n",
    "    #product url\n",
    "    img=driver.find_elements(By.XPATH,'//div[@class=\"_4WELSP\"]/img')\n",
    "    product_url.append(img.get_attribute(\"src\"))  \n",
    "\n",
    "#view the output    \n",
    "print(color_list[0:2])\n",
    "print(brand_list[0:2])\n",
    "print(smartphone[0:2])\n",
    "print(ram_list[0:2])\n",
    "print(rom_list[0:2])\n",
    "print(primary_camera_list[0:2])\n",
    "print(secondary_camera_list[0:2])\n",
    "print(display_list[0:2])\n",
    "print(battery_list[0:2])\n",
    "print(price_list[0:2])\n",
    "print(product_url[0:2])"
   ]
  },
  {
   "cell_type": "code",
   "execution_count": null,
   "id": "9684b22e-e47d-4e70-bbd5-29570954b688",
   "metadata": {},
   "outputs": [],
   "source": []
  },
  {
   "cell_type": "markdown",
   "id": "51d021ff-8e38-49ef-9272-55d02254d0a3",
   "metadata": {},
   "source": [
    "QUESTION NO 5 :"
   ]
  },
  {
   "cell_type": "code",
   "execution_count": null,
   "id": "bda982bc-9953-4725-83a7-8aa3a1fd1666",
   "metadata": {},
   "outputs": [],
   "source": [
    "driver.get('')"
   ]
  }
 ],
 "metadata": {
  "kernelspec": {
   "display_name": "Python 3 (ipykernel)",
   "language": "python",
   "name": "python3"
  },
  "language_info": {
   "codemirror_mode": {
    "name": "ipython",
    "version": 3
   },
   "file_extension": ".py",
   "mimetype": "text/x-python",
   "name": "python",
   "nbconvert_exporter": "python",
   "pygments_lexer": "ipython3",
   "version": "3.11.7"
  }
 },
 "nbformat": 4,
 "nbformat_minor": 5
}
