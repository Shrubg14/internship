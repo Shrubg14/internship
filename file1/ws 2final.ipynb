{
 "cells": [
  {
   "cell_type": "code",
   "execution_count": 20,
   "id": "a26bdd71-d502-430b-bfb0-54c1aff40657",
   "metadata": {},
   "outputs": [],
   "source": [
    "import selenium\n",
    "import pandas as pd\n",
    "import time\n",
    "from bs4 import BeautifulSoup\n",
    "\n",
    "from selenium import webdriver\n",
    "\n",
    "from selenium.common.exceptions import StaleElementReferenceException, NoSuchElementException , NoSuchWindowException\n",
    "\n",
    "import requests\n",
    "\n",
    "from selenium.webdriver.common.by import By\n",
    "from selenium.webdriver.common.action_chains import ActionChains\n",
    "from selenium.webdriver.support import expected_conditions as EC"
   ]
  },
  {
   "cell_type": "markdown",
   "id": "ef5ab0a1-ef49-4789-916e-0ccb94ae53eb",
   "metadata": {},
   "source": [
    "QUESTION NO : 1"
   ]
  },
  {
   "cell_type": "code",
   "execution_count": 75,
   "id": "7851c29b-85a5-412d-8ebb-0009a5eb6d9b",
   "metadata": {},
   "outputs": [],
   "source": [
    "url=\"https://en.wikipedia.org/wiki/List_of_most-viewed_YouTube_videos\""
   ]
  },
  {
   "cell_type": "code",
   "execution_count": 76,
   "id": "5f88f6f9-20bf-44ba-97ba-897273a97a8f",
   "metadata": {},
   "outputs": [],
   "source": [
    "data=requests.get(url).text"
   ]
  },
  {
   "cell_type": "code",
   "execution_count": 77,
   "id": "1313d544-cbed-438b-9bcc-eb4a59a7fdc5",
   "metadata": {},
   "outputs": [],
   "source": [
    "soup=BeautifulSoup(data,'html.parser')"
   ]
  },
  {
   "cell_type": "code",
   "execution_count": 78,
   "id": "3f49f3dd-4f13-4824-95bc-7bea43ce8ce6",
   "metadata": {},
   "outputs": [
    {
     "name": "stdout",
     "output_type": "stream",
     "text": [
      "classes for each table:\n",
      "['sortable', 'wikitable', 'sticky-header', 'static-row-numbers', 'sort-under', 'col3center', 'col4right']\n",
      "['wikitable', 'sortable']\n",
      "['nowraplinks', 'hlist', 'mw-collapsible', 'autocollapse', 'navbox-inner']\n",
      "['nowraplinks', 'navbox-subgroup']\n",
      "['nowraplinks', 'navbox-subgroup']\n",
      "['nowraplinks', 'hlist', 'mw-collapsible', 'autocollapse', 'navbox-inner']\n"
     ]
    }
   ],
   "source": [
    "print('classes for each table:')\n",
    "for table in soup.find_all('table'):\n",
    "    print(table.get('class'))"
   ]
  },
  {
   "cell_type": "code",
   "execution_count": 79,
   "id": "909a972c-8272-46f2-943c-16360f5e53a2",
   "metadata": {},
   "outputs": [],
   "source": [
    "tables=soup.find_all('table')\n",
    "table=soup.find('table',class_='wikitable sortable')"
   ]
  },
  {
   "cell_type": "code",
   "execution_count": 95,
   "id": "c385486d-7d01-422a-8720-eadbd134a92e",
   "metadata": {},
   "outputs": [
    {
     "ename": "AttributeError",
     "evalue": "'DataFrame' object has no attribute 'concat'",
     "output_type": "error",
     "traceback": [
      "\u001b[1;31m---------------------------------------------------------------------------\u001b[0m",
      "\u001b[1;31mAttributeError\u001b[0m                            Traceback (most recent call last)",
      "\u001b[1;32m~\\AppData\\Local\\Temp\\ipykernel_10056\\3747954417.py\u001b[0m in \u001b[0;36m?\u001b[1;34m()\u001b[0m\n\u001b[0;32m      6\u001b[0m         \u001b[0mName\u001b[0m\u001b[1;33m=\u001b[0m\u001b[0mcolumns\u001b[0m\u001b[1;33m[\u001b[0m\u001b[1;36m0\u001b[0m\u001b[1;33m]\u001b[0m\u001b[1;33m.\u001b[0m\u001b[0mtext\u001b[0m\u001b[1;33m.\u001b[0m\u001b[0mstrip\u001b[0m\u001b[1;33m(\u001b[0m\u001b[1;33m)\u001b[0m\u001b[1;33m\u001b[0m\u001b[1;33m\u001b[0m\u001b[0m\n\u001b[0;32m      7\u001b[0m         \u001b[0mArtist\u001b[0m\u001b[1;33m=\u001b[0m\u001b[0mcolumns\u001b[0m\u001b[1;33m[\u001b[0m\u001b[1;36m1\u001b[0m\u001b[1;33m]\u001b[0m\u001b[1;33m.\u001b[0m\u001b[0mtext\u001b[0m\u001b[1;33m.\u001b[0m\u001b[0mstrip\u001b[0m\u001b[1;33m(\u001b[0m\u001b[1;33m)\u001b[0m\u001b[1;33m\u001b[0m\u001b[1;33m\u001b[0m\u001b[0m\n\u001b[0;32m      8\u001b[0m         \u001b[0mUpload_name\u001b[0m\u001b[1;33m=\u001b[0m\u001b[0mcolumns\u001b[0m\u001b[1;33m[\u001b[0m\u001b[1;36m2\u001b[0m\u001b[1;33m]\u001b[0m\u001b[1;33m.\u001b[0m\u001b[0mtext\u001b[0m\u001b[1;33m.\u001b[0m\u001b[0mstrip\u001b[0m\u001b[1;33m(\u001b[0m\u001b[1;33m)\u001b[0m\u001b[1;33m\u001b[0m\u001b[1;33m\u001b[0m\u001b[0m\n\u001b[0;32m      9\u001b[0m         \u001b[0mViews\u001b[0m\u001b[1;33m=\u001b[0m\u001b[0mcolumns\u001b[0m\u001b[1;33m[\u001b[0m\u001b[1;36m3\u001b[0m\u001b[1;33m]\u001b[0m\u001b[1;33m.\u001b[0m\u001b[0mtext\u001b[0m\u001b[1;33m.\u001b[0m\u001b[0mstrip\u001b[0m\u001b[1;33m(\u001b[0m\u001b[1;33m)\u001b[0m\u001b[1;33m\u001b[0m\u001b[1;33m\u001b[0m\u001b[0m\n\u001b[1;32m---> 10\u001b[1;33m         \u001b[0mdf\u001b[0m\u001b[1;33m=\u001b[0m\u001b[0mdf\u001b[0m\u001b[1;33m.\u001b[0m\u001b[0mconcat\u001b[0m\u001b[1;33m(\u001b[0m\u001b[1;33m{\u001b[0m\u001b[1;34m'Names'\u001b[0m\u001b[1;33m:\u001b[0m\u001b[0mName\u001b[0m\u001b[1;33m,\u001b[0m\u001b[1;34m'Artists'\u001b[0m\u001b[1;33m:\u001b[0m\u001b[0mArtist\u001b[0m\u001b[1;33m,\u001b[0m\u001b[1;34m'Uploads'\u001b[0m\u001b[1;33m:\u001b[0m\u001b[0mUpload_name\u001b[0m\u001b[1;33m,\u001b[0m\u001b[1;34m'View'\u001b[0m\u001b[1;33m:\u001b[0m\u001b[0mViews\u001b[0m\u001b[1;33m}\u001b[0m\u001b[1;33m)\u001b[0m\u001b[1;33m\u001b[0m\u001b[1;33m\u001b[0m\u001b[0m\n\u001b[0m",
      "\u001b[1;32m~\\anaconda3\\Lib\\site-packages\\pandas\\core\\generic.py\u001b[0m in \u001b[0;36m?\u001b[1;34m(self, name)\u001b[0m\n\u001b[0;32m   6200\u001b[0m             \u001b[1;32mand\u001b[0m \u001b[0mname\u001b[0m \u001b[1;32mnot\u001b[0m \u001b[1;32min\u001b[0m \u001b[0mself\u001b[0m\u001b[1;33m.\u001b[0m\u001b[0m_accessors\u001b[0m\u001b[1;33m\u001b[0m\u001b[1;33m\u001b[0m\u001b[0m\n\u001b[0;32m   6201\u001b[0m             \u001b[1;32mand\u001b[0m \u001b[0mself\u001b[0m\u001b[1;33m.\u001b[0m\u001b[0m_info_axis\u001b[0m\u001b[1;33m.\u001b[0m\u001b[0m_can_hold_identifiers_and_holds_name\u001b[0m\u001b[1;33m(\u001b[0m\u001b[0mname\u001b[0m\u001b[1;33m)\u001b[0m\u001b[1;33m\u001b[0m\u001b[1;33m\u001b[0m\u001b[0m\n\u001b[0;32m   6202\u001b[0m         ):\n\u001b[0;32m   6203\u001b[0m             \u001b[1;32mreturn\u001b[0m \u001b[0mself\u001b[0m\u001b[1;33m[\u001b[0m\u001b[0mname\u001b[0m\u001b[1;33m]\u001b[0m\u001b[1;33m\u001b[0m\u001b[1;33m\u001b[0m\u001b[0m\n\u001b[1;32m-> 6204\u001b[1;33m         \u001b[1;32mreturn\u001b[0m \u001b[0mobject\u001b[0m\u001b[1;33m.\u001b[0m\u001b[0m__getattribute__\u001b[0m\u001b[1;33m(\u001b[0m\u001b[0mself\u001b[0m\u001b[1;33m,\u001b[0m \u001b[0mname\u001b[0m\u001b[1;33m)\u001b[0m\u001b[1;33m\u001b[0m\u001b[1;33m\u001b[0m\u001b[0m\n\u001b[0m",
      "\u001b[1;31mAttributeError\u001b[0m: 'DataFrame' object has no attribute 'concat'"
     ]
    }
   ],
   "source": [
    "df=pd.DataFrame(columns=['Name','Artist','Upload_name','Views'])\n",
    "\n",
    "for row in table.tbody.find_all('tr'):\n",
    "    columns=row.find_all('td')\n",
    "    if(columns != []):\n",
    "        Name=columns[0].text.strip()\n",
    "        Artist=columns[1].text.strip()\n",
    "        Upload_name=columns[2].text.strip()\n",
    "        Views=columns[3].text.strip()\n",
    "        df=df.concat({'Names':Name,'Artists':Artist,'Uploads':Upload_name,'View':Views})"
   ]
  },
  {
   "cell_type": "code",
   "execution_count": 96,
   "id": "ed5489cf-dadd-481a-bcae-f3bab133f10e",
   "metadata": {},
   "outputs": [
    {
     "data": {
      "text/html": [
       "<div>\n",
       "<style scoped>\n",
       "    .dataframe tbody tr th:only-of-type {\n",
       "        vertical-align: middle;\n",
       "    }\n",
       "\n",
       "    .dataframe tbody tr th {\n",
       "        vertical-align: top;\n",
       "    }\n",
       "\n",
       "    .dataframe thead th {\n",
       "        text-align: right;\n",
       "    }\n",
       "</style>\n",
       "<table border=\"1\" class=\"dataframe\">\n",
       "  <thead>\n",
       "    <tr style=\"text-align: right;\">\n",
       "      <th></th>\n",
       "      <th>Name</th>\n",
       "      <th>Artist</th>\n",
       "      <th>Upload_name</th>\n",
       "      <th>Views</th>\n",
       "    </tr>\n",
       "  </thead>\n",
       "  <tbody>\n",
       "  </tbody>\n",
       "</table>\n",
       "</div>"
      ],
      "text/plain": [
       "Empty DataFrame\n",
       "Columns: [Name, Artist, Upload_name, Views]\n",
       "Index: []"
      ]
     },
     "execution_count": 96,
     "metadata": {},
     "output_type": "execute_result"
    }
   ],
   "source": [
    "df"
   ]
  },
  {
   "cell_type": "code",
   "execution_count": null,
   "id": "869f330c-54f3-42a0-8989-f944f32ca3b7",
   "metadata": {},
   "outputs": [],
   "source": []
  },
  {
   "cell_type": "code",
   "execution_count": null,
   "id": "262f7141-9b80-4ae8-9ae0-09d98ff4a4ba",
   "metadata": {},
   "outputs": [],
   "source": [
    "QUESTION NO : 2"
   ]
  },
  {
   "cell_type": "code",
   "execution_count": 97,
   "id": "68c78446-b76b-4026-9153-27c5e72e6a0e",
   "metadata": {},
   "outputs": [],
   "source": [
    "driver=webdriver.Chrome()"
   ]
  },
  {
   "cell_type": "code",
   "execution_count": 49,
   "id": "93884ba2-3335-42d7-9981-95b25008a321",
   "metadata": {},
   "outputs": [],
   "source": [
    "driver.get(\"https://www.bcci.tv/\")"
   ]
  },
  {
   "cell_type": "code",
   "execution_count": 50,
   "id": "f6ce04d1-ef98-4139-aed4-ea12aeb84720",
   "metadata": {},
   "outputs": [],
   "source": [
    "international_fixtures=driver.find_element(By.XPATH,\"/html/body/div[2]/div/a[2]\")\n",
    "international_fixtures.click()"
   ]
  },
  {
   "cell_type": "code",
   "execution_count": 51,
   "id": "708c9610-e51c-4279-9218-92b2f89ead3f",
   "metadata": {},
   "outputs": [
    {
     "name": "stdout",
     "output_type": "stream",
     "text": [
      "India Tour Of Sri Lanka T20 Series 2024\n",
      "Asia Cup Women T20 2024\n",
      "India Tour Of Sri Lanka T20 Series 2024\n",
      "India Tour Of Sri Lanka T20 Series 2024\n",
      "India Tour Of Sri Lanka ODI Series 2024\n"
     ]
    }
   ],
   "source": [
    "try:\n",
    "        names=driver.find_elements(By.XPATH,'//h5[@class=\"match-tournament-name ng-binding\"]')\n",
    "        for x in range(len(names)):\n",
    "            print(names[x].text)\n",
    "except NoSuchElementException as e:\n",
    "        names.append(\"--\")"
   ]
  },
  {
   "cell_type": "code",
   "execution_count": 52,
   "id": "9a603d81-d688-4747-83af-fea0d4a6b3aa",
   "metadata": {},
   "outputs": [
    {
     "name": "stdout",
     "output_type": "stream",
     "text": [
      "Pallekele International Cricket Stadium, Pallekele\n",
      "Rangiri Dambulla International Stadium, Dambulla\n",
      "Pallekele International Cricket Stadium, Pallekele\n",
      "Pallekele International Cricket Stadium, Pallekele\n",
      "R Premadasa International Stadium, Colombo\n"
     ]
    }
   ],
   "source": [
    "try:\n",
    "        places=driver.find_elements(By.XPATH,'//div[@class=\"match-venue ng-scope\"]')\n",
    "        for x in range(len(places)):\n",
    "            print(places[x].text)\n",
    "except NoSuchElementException as e:\n",
    "        places.append(\"--\")"
   ]
  },
  {
   "cell_type": "code",
   "execution_count": 53,
   "id": "e1efb985-b8ff-42a6-8150-01488ce54030",
   "metadata": {},
   "outputs": [
    {
     "name": "stdout",
     "output_type": "stream",
     "text": [
      "27 Jul\n",
      "28 Jul\n",
      "28 Jul\n",
      "30 Jul\n",
      "2 Aug\n"
     ]
    }
   ],
   "source": [
    "try:\n",
    "        dates=driver.find_elements(By.XPATH,'//div[@class=\"match-dates ng-binding\"]')\n",
    "        for x in range(len(dates)):\n",
    "            print(dates[x].text)\n",
    "except NoSuchElementException as e:\n",
    "        dates.append(\"--\")"
   ]
  },
  {
   "cell_type": "code",
   "execution_count": 54,
   "id": "ebaa9753-b76f-452c-bfb2-86e2f6b2eaf1",
   "metadata": {},
   "outputs": [
    {
     "name": "stdout",
     "output_type": "stream",
     "text": [
      "19:00 IST\n",
      "15:00 IST\n",
      "19:00 IST\n",
      "19:00 IST\n",
      "14:30 IST\n"
     ]
    }
   ],
   "source": [
    "try:\n",
    "        times=driver.find_elements(By.XPATH,'//div[@class=\"match-time no-margin ng-binding\"]')\n",
    "        for x in range(len(times)):\n",
    "            print(times[x].text)\n",
    "except NoSuchElementException as e:\n",
    "        times.append(\"--\")"
   ]
  },
  {
   "cell_type": "code",
   "execution_count": null,
   "id": "688df071-afcc-4d06-988e-14f56dfb8bfe",
   "metadata": {},
   "outputs": [],
   "source": [
    "driver.quit()\n"
   ]
  },
  {
   "cell_type": "markdown",
   "id": "601d6c7c-adb0-41f6-b68e-36d9ed51c38f",
   "metadata": {},
   "source": [
    "QUESTION NO : 3"
   ]
  },
  {
   "cell_type": "code",
   "execution_count": 14,
   "id": "43ae6db5-f2fa-44ca-9867-5b2122c26d30",
   "metadata": {},
   "outputs": [],
   "source": [
    "driver=webdriver.Chrome()"
   ]
  },
  {
   "cell_type": "code",
   "execution_count": 15,
   "id": "3d48e935-00d9-4a1d-b945-177c060d009a",
   "metadata": {},
   "outputs": [],
   "source": [
    "driver.get(\"http://statisticstimes.com/\")"
   ]
  },
  {
   "cell_type": "code",
   "execution_count": 16,
   "id": "0734d694-95d5-4a0f-a518-94ae10def37b",
   "metadata": {},
   "outputs": [],
   "source": [
    "a = ActionChains(driver)\n",
    "m = driver.find_element(By.XPATH, \"//div[@class='navbar']//div[@class='dropdown'][2]//button[@class='dropbtn']\")\n",
    "a.move_to_element(m).perform()\n",
    "time.sleep(1)"
   ]
  },
  {
   "cell_type": "code",
   "execution_count": 17,
   "id": "0b194b64-c6d1-4592-9b26-616c4702af9e",
   "metadata": {},
   "outputs": [],
   "source": [
    "try:\n",
    "    india=driver.find_element(By.XPATH,'/html/body/div[2]/div[1]/div[2]/div[2]/div/a[3]')\n",
    "    india.click()\n",
    "except NoSuchElementException:\n",
    "    time.sleep(5)"
   ]
  },
  {
   "cell_type": "code",
   "execution_count": null,
   "id": "d4a88dbf-a582-43ab-8933-01b5a5655fec",
   "metadata": {},
   "outputs": [],
   "source": [
    "gdp_india=driver.find_element(By.XPATH,'/html/body/div[2]/div[2]/div[2]/ul/li[1]/a')\n",
    "gdp_india.click()"
   ]
  },
  {
   "cell_type": "code",
   "execution_count": null,
   "id": "304fc5e3-29d6-43ef-85c6-8b1590c5132d",
   "metadata": {},
   "outputs": [],
   "source": [
    "gdp_table = driver.find_element(By.XPATH, '//table[@id=\"table_id\"]')\n",
    "gdp_details = gdp_table.find_elements(By.XPATH, \".//tbody//tr\")"
   ]
  },
  {
   "cell_type": "code",
   "execution_count": null,
   "id": "2e689f82-9c1c-440c-88b5-72f52dd12f1c",
   "metadata": {},
   "outputs": [],
   "source": [
    "state = []\n",
    "GSDP1819 = []\n",
    "GSDP1920 = []\n",
    "share1819 = []\n",
    "GDP = []"
   ]
  },
  {
   "cell_type": "code",
   "execution_count": null,
   "id": "bcb45ff1-b713-4501-b35e-43a7d3ae134a",
   "metadata": {},
   "outputs": [],
   "source": [
    "for gdp_state in gdp_details:\n",
    "\n",
    "    try:\n",
    "        state.append(gdp_state.find_element(By.XPATH, \".//td[1]\").text)\n",
    "    except NoSuchElementException:\n",
    "        state.append(\"-\")\n",
    "\n",
    "    try:\n",
    "        GSDP1819.append(gdp_state.find_element(By.XPATH, \".//td[2]\").text)\n",
    "    except NoSuchElementException:\n",
    "        GSDP1819.append(\"-\")\n",
    "\n",
    "    try:\n",
    "        GSDP1920.append(gdp_state.find_element(By.XPATH, \".//td[3]\").text)\n",
    "    except NoSuchElementException:\n",
    "        GSDP1920.append(\"-\")\n",
    "\n",
    "    try:\n",
    "        share1819.append(gdp_state.find_element(By.XPATH, \".//td[4]\").text)\n",
    "    except NoSuchElementException:\n",
    "        share1819.append(\"-\")\n",
    "\n",
    "    try:\n",
    "        GDP.append(gdp_state.find_element(By.XPATH, \".//td[5]\").text)\n",
    "    except NoSuchElementException:\n",
    "        GDP.append(\"-\")"
   ]
  },
  {
   "cell_type": "code",
   "execution_count": null,
   "id": "8b1ac139-415c-4d3e-b82a-27941a74bd23",
   "metadata": {},
   "outputs": [],
   "source": [
    "df = pd.DataFrame({'State': state, 'GSDP (19-20)': GSDP1819, 'GSDP (18-19)': GSDP1920, 'Share': share1819, 'GDP ($billion)': GDP})\n",
    "df"
   ]
  },
  {
   "cell_type": "code",
   "execution_count": null,
   "id": "b75795a1-2bd0-4305-8ffb-24153513398d",
   "metadata": {},
   "outputs": [],
   "source": [
    "driver.quit()\n"
   ]
  },
  {
   "cell_type": "markdown",
   "id": "02866ffc-c672-4ec6-b722-aa3617508461",
   "metadata": {},
   "source": [
    "QUESTION NO : 4"
   ]
  },
  {
   "cell_type": "code",
   "execution_count": 24,
   "id": "3097460f-ecb0-4d5c-8cd6-0586cfbc8db2",
   "metadata": {},
   "outputs": [],
   "source": [
    "driver=webdriver.Chrome()"
   ]
  },
  {
   "cell_type": "code",
   "execution_count": 25,
   "id": "beb52c51-726c-48d7-ab2d-04942cf6cdd1",
   "metadata": {},
   "outputs": [],
   "source": [
    "driver.get(\"https://github.com/\")"
   ]
  },
  {
   "cell_type": "code",
   "execution_count": 34,
   "id": "6dc36762-96e3-4ace-ba7e-d27b4d692498",
   "metadata": {},
   "outputs": [],
   "source": [
    "a = ActionChains(driver)\n",
    "m = driver.find_element(By.XPATH, \"//*[contains(text(), 'Open Source')]\")\n",
    "a.move_to_element(m).perform()\n",
    "time.sleep(5)\n",
    "\n"
   ]
  },
  {
   "cell_type": "code",
   "execution_count": 35,
   "id": "7c09d59b-d02f-419e-b784-aa7d6435e98e",
   "metadata": {},
   "outputs": [],
   "source": [
    "try:\n",
    "    tranding=driver.find_element(By.XPATH,'/html/body/div[1]/div[1]/header/div/div[2]/div/nav/ul/li[4]/div/div[3]/ul/li[2]/a')\n",
    "    tranding.click()\n",
    "except NoSuchElementException:\n",
    "    print(\"not fund\")\n",
    "    time.sleep(5)"
   ]
  },
  {
   "cell_type": "code",
   "execution_count": 37,
   "id": "433fe5ba-6d34-4459-b1f1-8a24d17a8c92",
   "metadata": {},
   "outputs": [],
   "source": [
    "repo_details = driver.find_elements(By.XPATH, \"//article[@class='Box-row']\")"
   ]
  },
  {
   "cell_type": "code",
   "execution_count": 55,
   "id": "3bb4add6-7eba-47d2-a604-95fd61d2936b",
   "metadata": {},
   "outputs": [],
   "source": [
    "repo_title = []\n",
    "repo_desc = []\n",
    "cont_count = []\n",
    "language = []"
   ]
  },
  {
   "cell_type": "code",
   "execution_count": 56,
   "id": "b8bc6e16-1d53-4e1b-a209-5dab424d0e8f",
   "metadata": {},
   "outputs": [],
   "source": [
    "for repo in repo_details:\n",
    "\n",
    "    try:\n",
    "        repo_title.append(repo.find_element(By.XPATH, \".//h1[@class='h3 lh-condensed']//a\").text)\n",
    "    except NoSuchElementException:\n",
    "        repo_title.append(\"-\")\n",
    "\n",
    "    try:\n",
    "        repo_desc.append(repo.find_element(By.XPATH, \".//p\").text)\n",
    "    except NoSuchElementException:\n",
    "        repo_desc.append(\"-\")\n",
    "\n",
    "    try:\n",
    "        cont_counts = repo.find_elements(By.XPATH, \".//span[@class='d-inline-block mr-3']//a\")\n",
    "        cont_count.append(len(cont_counts))\n",
    "    except NoSuchElementException:\n",
    "        cont_count.append(\"-\")\n",
    "\n",
    "    try:\n",
    "        language.append(repo.find_element(By.XPATH, \".//span[@itemprop='programmingLanguage']\").text)\n",
    "    except NoSuchElementException:\n",
    "        language.append(\"-\")"
   ]
  },
  {
   "cell_type": "code",
   "execution_count": 57,
   "id": "8071f537-9eca-4206-b391-33f963e2eeb1",
   "metadata": {},
   "outputs": [
    {
     "data": {
      "text/html": [
       "<div>\n",
       "<style scoped>\n",
       "    .dataframe tbody tr th:only-of-type {\n",
       "        vertical-align: middle;\n",
       "    }\n",
       "\n",
       "    .dataframe tbody tr th {\n",
       "        vertical-align: top;\n",
       "    }\n",
       "\n",
       "    .dataframe thead th {\n",
       "        text-align: right;\n",
       "    }\n",
       "</style>\n",
       "<table border=\"1\" class=\"dataframe\">\n",
       "  <thead>\n",
       "    <tr style=\"text-align: right;\">\n",
       "      <th></th>\n",
       "      <th>Repository Title</th>\n",
       "      <th>Repository Description</th>\n",
       "      <th>Contributors Count</th>\n",
       "      <th>Language Used</th>\n",
       "    </tr>\n",
       "  </thead>\n",
       "  <tbody>\n",
       "    <tr>\n",
       "      <th>0</th>\n",
       "      <td>-</td>\n",
       "      <td>😎 Awesome lists about all kinds of interesting...</td>\n",
       "      <td>5</td>\n",
       "      <td>-</td>\n",
       "    </tr>\n",
       "    <tr>\n",
       "      <th>1</th>\n",
       "      <td>-</td>\n",
       "      <td>Lean 4 programming language and theorem prover</td>\n",
       "      <td>5</td>\n",
       "      <td>Lean</td>\n",
       "    </tr>\n",
       "    <tr>\n",
       "      <th>2</th>\n",
       "      <td>-</td>\n",
       "      <td>freeCodeCamp.org's open-source codebase and cu...</td>\n",
       "      <td>5</td>\n",
       "      <td>TypeScript</td>\n",
       "    </tr>\n",
       "    <tr>\n",
       "      <th>3</th>\n",
       "      <td>-</td>\n",
       "      <td>An open-source C++ library developed and used ...</td>\n",
       "      <td>5</td>\n",
       "      <td>C++</td>\n",
       "    </tr>\n",
       "    <tr>\n",
       "      <th>4</th>\n",
       "      <td>-</td>\n",
       "      <td>Free, simple, and intuitive online database de...</td>\n",
       "      <td>5</td>\n",
       "      <td>JavaScript</td>\n",
       "    </tr>\n",
       "    <tr>\n",
       "      <th>5</th>\n",
       "      <td>-</td>\n",
       "      <td>The official Meta Llama 3 GitHub site</td>\n",
       "      <td>5</td>\n",
       "      <td>Python</td>\n",
       "    </tr>\n",
       "    <tr>\n",
       "      <th>6</th>\n",
       "      <td>-</td>\n",
       "      <td>Get up and running with Llama 3.1, Mistral, Ge...</td>\n",
       "      <td>5</td>\n",
       "      <td>Go</td>\n",
       "    </tr>\n",
       "    <tr>\n",
       "      <th>7</th>\n",
       "      <td>-</td>\n",
       "      <td>🤯 Lobe Chat - an open-source, modern-design LL...</td>\n",
       "      <td>5</td>\n",
       "      <td>TypeScript</td>\n",
       "    </tr>\n",
       "    <tr>\n",
       "      <th>8</th>\n",
       "      <td>-</td>\n",
       "      <td>Fast C++ logging library.</td>\n",
       "      <td>5</td>\n",
       "      <td>C++</td>\n",
       "    </tr>\n",
       "    <tr>\n",
       "      <th>9</th>\n",
       "      <td>-</td>\n",
       "      <td>Modern CSS framework based on Flexbox</td>\n",
       "      <td>5</td>\n",
       "      <td>CSS</td>\n",
       "    </tr>\n",
       "    <tr>\n",
       "      <th>10</th>\n",
       "      <td>-</td>\n",
       "      <td>Flipper Zero Unleashed Firmware</td>\n",
       "      <td>5</td>\n",
       "      <td>C</td>\n",
       "    </tr>\n",
       "    <tr>\n",
       "      <th>11</th>\n",
       "      <td>-</td>\n",
       "      <td>An automated e-mail OSINT tool</td>\n",
       "      <td>3</td>\n",
       "      <td>Go</td>\n",
       "    </tr>\n",
       "    <tr>\n",
       "      <th>12</th>\n",
       "      <td>-</td>\n",
       "      <td>Ollama Python library</td>\n",
       "      <td>5</td>\n",
       "      <td>Python</td>\n",
       "    </tr>\n",
       "    <tr>\n",
       "      <th>13</th>\n",
       "      <td>-</td>\n",
       "      <td>A one-stop, open-source, high-quality data ext...</td>\n",
       "      <td>5</td>\n",
       "      <td>Python</td>\n",
       "    </tr>\n",
       "    <tr>\n",
       "      <th>14</th>\n",
       "      <td>-</td>\n",
       "      <td>A complete computer science study plan to beco...</td>\n",
       "      <td>5</td>\n",
       "      <td>-</td>\n",
       "    </tr>\n",
       "    <tr>\n",
       "      <th>15</th>\n",
       "      <td>-</td>\n",
       "      <td>API Documentation Browser</td>\n",
       "      <td>5</td>\n",
       "      <td>Ruby</td>\n",
       "    </tr>\n",
       "    <tr>\n",
       "      <th>16</th>\n",
       "      <td>-</td>\n",
       "      <td>Extremely Fast Compression algorithm</td>\n",
       "      <td>5</td>\n",
       "      <td>C</td>\n",
       "    </tr>\n",
       "  </tbody>\n",
       "</table>\n",
       "</div>"
      ],
      "text/plain": [
       "   Repository Title                             Repository Description  \\\n",
       "0                 -  😎 Awesome lists about all kinds of interesting...   \n",
       "1                 -     Lean 4 programming language and theorem prover   \n",
       "2                 -  freeCodeCamp.org's open-source codebase and cu...   \n",
       "3                 -  An open-source C++ library developed and used ...   \n",
       "4                 -  Free, simple, and intuitive online database de...   \n",
       "5                 -              The official Meta Llama 3 GitHub site   \n",
       "6                 -  Get up and running with Llama 3.1, Mistral, Ge...   \n",
       "7                 -  🤯 Lobe Chat - an open-source, modern-design LL...   \n",
       "8                 -                          Fast C++ logging library.   \n",
       "9                 -              Modern CSS framework based on Flexbox   \n",
       "10                -                    Flipper Zero Unleashed Firmware   \n",
       "11                -                     An automated e-mail OSINT tool   \n",
       "12                -                              Ollama Python library   \n",
       "13                -  A one-stop, open-source, high-quality data ext...   \n",
       "14                -  A complete computer science study plan to beco...   \n",
       "15                -                          API Documentation Browser   \n",
       "16                -               Extremely Fast Compression algorithm   \n",
       "\n",
       "    Contributors Count Language Used  \n",
       "0                    5             -  \n",
       "1                    5          Lean  \n",
       "2                    5    TypeScript  \n",
       "3                    5           C++  \n",
       "4                    5    JavaScript  \n",
       "5                    5        Python  \n",
       "6                    5            Go  \n",
       "7                    5    TypeScript  \n",
       "8                    5           C++  \n",
       "9                    5           CSS  \n",
       "10                   5             C  \n",
       "11                   3            Go  \n",
       "12                   5        Python  \n",
       "13                   5        Python  \n",
       "14                   5             -  \n",
       "15                   5          Ruby  \n",
       "16                   5             C  "
      ]
     },
     "execution_count": 57,
     "metadata": {},
     "output_type": "execute_result"
    }
   ],
   "source": [
    "df = pd.DataFrame({'Repository Title': repo_title, 'Repository Description': repo_desc, 'Contributors Count': cont_count, 'Language Used': language})\n",
    "df\n"
   ]
  },
  {
   "cell_type": "code",
   "execution_count": 58,
   "id": "7f6a0c7c-2025-4861-9a77-d024d70476e5",
   "metadata": {},
   "outputs": [],
   "source": [
    "driver.quit()\n"
   ]
  },
  {
   "cell_type": "markdown",
   "id": "364967e0-6517-4768-8757-5bb6f458accb",
   "metadata": {},
   "source": [
    "QUESTION NO : 5"
   ]
  },
  {
   "cell_type": "code",
   "execution_count": 64,
   "id": "3e214654-4b4c-4615-a2b7-e2e2b2131911",
   "metadata": {},
   "outputs": [],
   "source": [
    "driver = webdriver.Chrome()"
   ]
  },
  {
   "cell_type": "code",
   "execution_count": 65,
   "id": "95b5cbf3-01c0-4845-bd57-2c9a013611bd",
   "metadata": {},
   "outputs": [],
   "source": [
    "driver.get(\"https://www.billboard.com/\")"
   ]
  },
  {
   "cell_type": "code",
   "execution_count": 67,
   "id": "a56d02a3-c140-4f28-b76d-bc127a9e2ba7",
   "metadata": {},
   "outputs": [],
   "source": [
    "charts=driver.find_element(By.XPATH, \"/html/body/div[3]/div[9]/div/div/div/ul/li[1]/h3/a\")\n",
    "charts.click()\n",
    "time.sleep(3)"
   ]
  },
  {
   "cell_type": "code",
   "execution_count": 68,
   "id": "34ba3597-7e34-4433-9f5e-96acc0f02be8",
   "metadata": {},
   "outputs": [],
   "source": [
    "billboard=driver.find_element(By.XPATH, \"/html/body/div[3]/main/div[2]/div[1]/div[1]/div/div/div[1]/div/div[2]/span/a\")\n",
    "billboard.click()\n",
    "time.sleep(3)"
   ]
  },
  {
   "cell_type": "code",
   "execution_count": 69,
   "id": "e271ff02-df96-4958-a3b3-44d3f64037f4",
   "metadata": {},
   "outputs": [],
   "source": [
    "song = []\n",
    "artist = []\n",
    "last_week = []\n",
    "peak = []\n",
    "weeks_on_board = []"
   ]
  },
  {
   "cell_type": "code",
   "execution_count": 70,
   "id": "9a248430-8372-4038-87ac-487a46242e05",
   "metadata": {},
   "outputs": [],
   "source": [
    "topSongs_details = driver.find_elements(By.XPATH, \"//div[@class='o-chart-results-list-row-container']\")"
   ]
  },
  {
   "cell_type": "code",
   "execution_count": 71,
   "id": "72e2e071-3029-4610-982b-4c7c1f46cb73",
   "metadata": {},
   "outputs": [
    {
     "name": "stdout",
     "output_type": "stream",
     "text": [
      "topSongs_details:  100\n"
     ]
    }
   ],
   "source": [
    "print(\"topSongs_details: \", len(topSongs_details))"
   ]
  },
  {
   "cell_type": "code",
   "execution_count": 72,
   "id": "2c2bdc53-a732-466e-b1d7-8c6c671fc7a8",
   "metadata": {},
   "outputs": [],
   "source": [
    "for topSong in topSongs_details:\n",
    "\n",
    "    try:\n",
    "        song.append(topSong.find_element(By.XPATH, \".//li[@class='lrv-u-width-100p']//ul//li[1]//h3[@id='title-of-a-story']\").text)\n",
    "    except NoSuchElementException:\n",
    "        song.append(\"-\")\n",
    "\n",
    "    try:\n",
    "        artist.append(topSong.find_element(By.XPATH, \".//li[@class='lrv-u-width-100p']//ul//li[1]//span\").text)\n",
    "    except NoSuchElementException:\n",
    "        artist.append(\"-\")\n",
    "\n",
    "    try:\n",
    "        last_week.append(topSong.find_element(By.XPATH, \".//li[@class='lrv-u-width-100p']//ul//li[4]\").text)\n",
    "    except NoSuchElementException:\n",
    "        last_week.append(\"-\")\n",
    "\n",
    "    try:\n",
    "        peak.append(topSong.find_element(By.XPATH, \".//li[@class='lrv-u-width-100p']//ul//li[5]\").text)\n",
    "    except NoSuchElementException:\n",
    "        peak.append(\"-\")\n",
    "\n",
    "    try:\n",
    "        weeks_on_board.append(topSong.find_element(By.XPATH, \".//li[@class='lrv-u-width-100p']//ul//li[6]\").text)\n",
    "    except NoSuchElementException:\n",
    "        weeks_on_board.append(\"-\")"
   ]
  },
  {
   "cell_type": "code",
   "execution_count": 73,
   "id": "f6825765-f54f-4a21-9cc4-04ae5086ef36",
   "metadata": {},
   "outputs": [
    {
     "data": {
      "text/html": [
       "<div>\n",
       "<style scoped>\n",
       "    .dataframe tbody tr th:only-of-type {\n",
       "        vertical-align: middle;\n",
       "    }\n",
       "\n",
       "    .dataframe tbody tr th {\n",
       "        vertical-align: top;\n",
       "    }\n",
       "\n",
       "    .dataframe thead th {\n",
       "        text-align: right;\n",
       "    }\n",
       "</style>\n",
       "<table border=\"1\" class=\"dataframe\">\n",
       "  <thead>\n",
       "    <tr style=\"text-align: right;\">\n",
       "      <th></th>\n",
       "      <th>Song Name</th>\n",
       "      <th>Artist Name</th>\n",
       "      <th>Last Week Rank</th>\n",
       "      <th>Peak Rank</th>\n",
       "      <th>Weeks On Board</th>\n",
       "    </tr>\n",
       "  </thead>\n",
       "  <tbody>\n",
       "    <tr>\n",
       "      <th>0</th>\n",
       "      <td>A Bar Song (Tipsy)</td>\n",
       "      <td>Shaboozey</td>\n",
       "      <td>2</td>\n",
       "      <td>1</td>\n",
       "      <td>14</td>\n",
       "    </tr>\n",
       "    <tr>\n",
       "      <th>1</th>\n",
       "      <td>I Had Some Help</td>\n",
       "      <td>Post Malone Featuring Morgan Wallen</td>\n",
       "      <td>3</td>\n",
       "      <td>1</td>\n",
       "      <td>10</td>\n",
       "    </tr>\n",
       "    <tr>\n",
       "      <th>2</th>\n",
       "      <td>Not Like Us</td>\n",
       "      <td>Kendrick Lamar</td>\n",
       "      <td>1</td>\n",
       "      <td>1</td>\n",
       "      <td>11</td>\n",
       "    </tr>\n",
       "    <tr>\n",
       "      <th>3</th>\n",
       "      <td>Million Dollar Baby</td>\n",
       "      <td>Tommy Richman</td>\n",
       "      <td>4</td>\n",
       "      <td>2</td>\n",
       "      <td>12</td>\n",
       "    </tr>\n",
       "    <tr>\n",
       "      <th>4</th>\n",
       "      <td>Espresso</td>\n",
       "      <td>Sabrina Carpenter</td>\n",
       "      <td>5</td>\n",
       "      <td>3</td>\n",
       "      <td>14</td>\n",
       "    </tr>\n",
       "    <tr>\n",
       "      <th>...</th>\n",
       "      <td>...</td>\n",
       "      <td>...</td>\n",
       "      <td>...</td>\n",
       "      <td>...</td>\n",
       "      <td>...</td>\n",
       "    </tr>\n",
       "    <tr>\n",
       "      <th>95</th>\n",
       "      <td>Bass Boat</td>\n",
       "      <td>Zach Bryan</td>\n",
       "      <td>61</td>\n",
       "      <td>61</td>\n",
       "      <td>2</td>\n",
       "    </tr>\n",
       "    <tr>\n",
       "      <th>96</th>\n",
       "      <td>Think I'm In Love With You</td>\n",
       "      <td>Chris Stapleton</td>\n",
       "      <td>87</td>\n",
       "      <td>49</td>\n",
       "      <td>11</td>\n",
       "    </tr>\n",
       "    <tr>\n",
       "      <th>97</th>\n",
       "      <td>Beautiful As You</td>\n",
       "      <td>Thomas Rhett</td>\n",
       "      <td>95</td>\n",
       "      <td>83</td>\n",
       "      <td>6</td>\n",
       "    </tr>\n",
       "    <tr>\n",
       "      <th>98</th>\n",
       "      <td>Sweet Dreams</td>\n",
       "      <td>Koe Wetzel</td>\n",
       "      <td>88</td>\n",
       "      <td>35</td>\n",
       "      <td>9</td>\n",
       "    </tr>\n",
       "    <tr>\n",
       "      <th>99</th>\n",
       "      <td>Sandpaper</td>\n",
       "      <td>Zach Bryan Featuring Bruce Springsteen</td>\n",
       "      <td>71</td>\n",
       "      <td>71</td>\n",
       "      <td>2</td>\n",
       "    </tr>\n",
       "  </tbody>\n",
       "</table>\n",
       "<p>100 rows × 5 columns</p>\n",
       "</div>"
      ],
      "text/plain": [
       "                     Song Name                             Artist Name  \\\n",
       "0           A Bar Song (Tipsy)                               Shaboozey   \n",
       "1              I Had Some Help     Post Malone Featuring Morgan Wallen   \n",
       "2                  Not Like Us                          Kendrick Lamar   \n",
       "3          Million Dollar Baby                           Tommy Richman   \n",
       "4                     Espresso                       Sabrina Carpenter   \n",
       "..                         ...                                     ...   \n",
       "95                   Bass Boat                              Zach Bryan   \n",
       "96  Think I'm In Love With You                         Chris Stapleton   \n",
       "97            Beautiful As You                            Thomas Rhett   \n",
       "98                Sweet Dreams                              Koe Wetzel   \n",
       "99                   Sandpaper  Zach Bryan Featuring Bruce Springsteen   \n",
       "\n",
       "   Last Week Rank Peak Rank Weeks On Board  \n",
       "0               2         1             14  \n",
       "1               3         1             10  \n",
       "2               1         1             11  \n",
       "3               4         2             12  \n",
       "4               5         3             14  \n",
       "..            ...       ...            ...  \n",
       "95             61        61              2  \n",
       "96             87        49             11  \n",
       "97             95        83              6  \n",
       "98             88        35              9  \n",
       "99             71        71              2  \n",
       "\n",
       "[100 rows x 5 columns]"
      ]
     },
     "execution_count": 73,
     "metadata": {},
     "output_type": "execute_result"
    }
   ],
   "source": [
    "df = pd.DataFrame({'Song Name': song, 'Artist Name': artist, 'Last Week Rank': last_week, 'Peak Rank': peak, 'Weeks On Board': weeks_on_board})\n",
    "df"
   ]
  },
  {
   "cell_type": "code",
   "execution_count": 74,
   "id": "a761bb8b-d6b1-4422-95dc-b2e6bb48cc10",
   "metadata": {},
   "outputs": [],
   "source": [
    "driver.quit()\n"
   ]
  },
  {
   "cell_type": "code",
   "execution_count": null,
   "id": "2cdfda9c-e503-4526-9aec-d9354aa4517c",
   "metadata": {},
   "outputs": [],
   "source": []
  },
  {
   "cell_type": "markdown",
   "id": "4ca1eafd-b7c4-4cd2-a510-28a62c03544d",
   "metadata": {},
   "source": [
    "QUESTION NO : 6"
   ]
  },
  {
   "cell_type": "code",
   "execution_count": 75,
   "id": "975529eb-ec3f-4e6b-8b9b-9f804b543f56",
   "metadata": {},
   "outputs": [],
   "source": [
    "driver = webdriver.Chrome()"
   ]
  },
  {
   "cell_type": "code",
   "execution_count": 76,
   "id": "9bf2d420-a837-4a1e-8c43-aeddbd2c3345",
   "metadata": {},
   "outputs": [],
   "source": [
    "driver.get(\"https://www.theguardian.com/news/datablog/2012/aug/09/best-selling-books-all-time-fifty-shades-grey-compare\")"
   ]
  },
  {
   "cell_type": "code",
   "execution_count": 77,
   "id": "9ffc366f-9ebc-4096-8487-dc3e7b6c934f",
   "metadata": {},
   "outputs": [],
   "source": [
    "novels_table = driver.find_element(By.XPATH, \"//table[@class='in-article sortable']\")\n",
    "novels_details = novels_table.find_elements(By.XPATH, \".//tbody//tr\")"
   ]
  },
  {
   "cell_type": "code",
   "execution_count": 78,
   "id": "38695141-4c4b-4f02-bf87-6fb6adcfbc59",
   "metadata": {},
   "outputs": [],
   "source": [
    "book = []\n",
    "author = []\n",
    "sold = []\n",
    "publisher = []\n",
    "genre = []"
   ]
  },
  {
   "cell_type": "code",
   "execution_count": 79,
   "id": "6b9f01b6-a162-47b7-938e-89d14d6e0edf",
   "metadata": {},
   "outputs": [],
   "source": [
    "for novel in novels_details:\n",
    "\n",
    "    try:\n",
    "        book.append(novel.find_element(By.XPATH, \".//td[2]\").text)\n",
    "    except NoSuchElementException:\n",
    "        book.append(\"-\")\n",
    "\n",
    "    try:\n",
    "        author.append(novel.find_element(By.XPATH, \".//td[3]\").text)\n",
    "    except NoSuchElementException:\n",
    "        author.append(\"-\")\n",
    "\n",
    "    try:\n",
    "        sold.append(novel.find_element(By.XPATH, \".//td[4]\").text)\n",
    "    except NoSuchElementException:\n",
    "        sold.append(\"-\")\n",
    "\n",
    "    try:\n",
    "        publisher.append(novel.find_element(By.XPATH, \".//td[5]\").text)\n",
    "    except NoSuchElementException:\n",
    "        publisher.append(\"-\")\n",
    "\n",
    "    try:\n",
    "        genre.append(novel.find_element(By.XPATH, \".//td[6]\").text)\n",
    "    except NoSuchElementException:\n",
    "        genre.append(\"-\")"
   ]
  },
  {
   "cell_type": "code",
   "execution_count": 80,
   "id": "ab6f7888-7c57-47ba-9bb3-bc226dc68fc7",
   "metadata": {},
   "outputs": [
    {
     "data": {
      "text/html": [
       "<div>\n",
       "<style scoped>\n",
       "    .dataframe tbody tr th:only-of-type {\n",
       "        vertical-align: middle;\n",
       "    }\n",
       "\n",
       "    .dataframe tbody tr th {\n",
       "        vertical-align: top;\n",
       "    }\n",
       "\n",
       "    .dataframe thead th {\n",
       "        text-align: right;\n",
       "    }\n",
       "</style>\n",
       "<table border=\"1\" class=\"dataframe\">\n",
       "  <thead>\n",
       "    <tr style=\"text-align: right;\">\n",
       "      <th></th>\n",
       "      <th>Book Name</th>\n",
       "      <th>Author Name</th>\n",
       "      <th>Volumes Sold</th>\n",
       "      <th>Publisher</th>\n",
       "      <th>Genre</th>\n",
       "    </tr>\n",
       "  </thead>\n",
       "  <tbody>\n",
       "    <tr>\n",
       "      <th>0</th>\n",
       "      <td>Da Vinci Code,The</td>\n",
       "      <td>Brown, Dan</td>\n",
       "      <td>5,094,805</td>\n",
       "      <td>Transworld</td>\n",
       "      <td>Crime, Thriller &amp; Adventure</td>\n",
       "    </tr>\n",
       "    <tr>\n",
       "      <th>1</th>\n",
       "      <td>Harry Potter and the Deathly Hallows</td>\n",
       "      <td>Rowling, J.K.</td>\n",
       "      <td>4,475,152</td>\n",
       "      <td>Bloomsbury</td>\n",
       "      <td>Children's Fiction</td>\n",
       "    </tr>\n",
       "    <tr>\n",
       "      <th>2</th>\n",
       "      <td>Harry Potter and the Philosopher's Stone</td>\n",
       "      <td>Rowling, J.K.</td>\n",
       "      <td>4,200,654</td>\n",
       "      <td>Bloomsbury</td>\n",
       "      <td>Children's Fiction</td>\n",
       "    </tr>\n",
       "    <tr>\n",
       "      <th>3</th>\n",
       "      <td>Harry Potter and the Order of the Phoenix</td>\n",
       "      <td>Rowling, J.K.</td>\n",
       "      <td>4,179,479</td>\n",
       "      <td>Bloomsbury</td>\n",
       "      <td>Children's Fiction</td>\n",
       "    </tr>\n",
       "    <tr>\n",
       "      <th>4</th>\n",
       "      <td>Fifty Shades of Grey</td>\n",
       "      <td>James, E. L.</td>\n",
       "      <td>3,758,936</td>\n",
       "      <td>Random House</td>\n",
       "      <td>Romance &amp; Sagas</td>\n",
       "    </tr>\n",
       "    <tr>\n",
       "      <th>...</th>\n",
       "      <td>...</td>\n",
       "      <td>...</td>\n",
       "      <td>...</td>\n",
       "      <td>...</td>\n",
       "      <td>...</td>\n",
       "    </tr>\n",
       "    <tr>\n",
       "      <th>95</th>\n",
       "      <td>Ghost,The</td>\n",
       "      <td>Harris, Robert</td>\n",
       "      <td>807,311</td>\n",
       "      <td>Random House</td>\n",
       "      <td>General &amp; Literary Fiction</td>\n",
       "    </tr>\n",
       "    <tr>\n",
       "      <th>96</th>\n",
       "      <td>Happy Days with the Naked Chef</td>\n",
       "      <td>Oliver, Jamie</td>\n",
       "      <td>794,201</td>\n",
       "      <td>Penguin</td>\n",
       "      <td>Food &amp; Drink: General</td>\n",
       "    </tr>\n",
       "    <tr>\n",
       "      <th>97</th>\n",
       "      <td>Hunger Games,The:Hunger Games Trilogy</td>\n",
       "      <td>Collins, Suzanne</td>\n",
       "      <td>792,187</td>\n",
       "      <td>Scholastic Ltd.</td>\n",
       "      <td>Young Adult Fiction</td>\n",
       "    </tr>\n",
       "    <tr>\n",
       "      <th>98</th>\n",
       "      <td>Lost Boy,The:A Foster Child's Search for the L...</td>\n",
       "      <td>Pelzer, Dave</td>\n",
       "      <td>791,507</td>\n",
       "      <td>Orion</td>\n",
       "      <td>Biography: General</td>\n",
       "    </tr>\n",
       "    <tr>\n",
       "      <th>99</th>\n",
       "      <td>Jamie's Ministry of Food:Anyone Can Learn to C...</td>\n",
       "      <td>Oliver, Jamie</td>\n",
       "      <td>791,095</td>\n",
       "      <td>Penguin</td>\n",
       "      <td>Food &amp; Drink: General</td>\n",
       "    </tr>\n",
       "  </tbody>\n",
       "</table>\n",
       "<p>100 rows × 5 columns</p>\n",
       "</div>"
      ],
      "text/plain": [
       "                                            Book Name       Author Name  \\\n",
       "0                                   Da Vinci Code,The        Brown, Dan   \n",
       "1                Harry Potter and the Deathly Hallows     Rowling, J.K.   \n",
       "2            Harry Potter and the Philosopher's Stone     Rowling, J.K.   \n",
       "3           Harry Potter and the Order of the Phoenix     Rowling, J.K.   \n",
       "4                                Fifty Shades of Grey      James, E. L.   \n",
       "..                                                ...               ...   \n",
       "95                                          Ghost,The    Harris, Robert   \n",
       "96                     Happy Days with the Naked Chef     Oliver, Jamie   \n",
       "97              Hunger Games,The:Hunger Games Trilogy  Collins, Suzanne   \n",
       "98  Lost Boy,The:A Foster Child's Search for the L...      Pelzer, Dave   \n",
       "99  Jamie's Ministry of Food:Anyone Can Learn to C...     Oliver, Jamie   \n",
       "\n",
       "   Volumes Sold        Publisher                        Genre  \n",
       "0     5,094,805       Transworld  Crime, Thriller & Adventure  \n",
       "1     4,475,152       Bloomsbury           Children's Fiction  \n",
       "2     4,200,654       Bloomsbury           Children's Fiction  \n",
       "3     4,179,479       Bloomsbury           Children's Fiction  \n",
       "4     3,758,936     Random House              Romance & Sagas  \n",
       "..          ...              ...                          ...  \n",
       "95      807,311     Random House   General & Literary Fiction  \n",
       "96      794,201          Penguin        Food & Drink: General  \n",
       "97      792,187  Scholastic Ltd.          Young Adult Fiction  \n",
       "98      791,507            Orion           Biography: General  \n",
       "99      791,095          Penguin        Food & Drink: General  \n",
       "\n",
       "[100 rows x 5 columns]"
      ]
     },
     "execution_count": 80,
     "metadata": {},
     "output_type": "execute_result"
    }
   ],
   "source": [
    "df = pd.DataFrame({'Book Name': book, 'Author Name': author, 'Volumes Sold': sold, 'Publisher': publisher, 'Genre': genre})\n",
    "df"
   ]
  },
  {
   "cell_type": "code",
   "execution_count": 81,
   "id": "29c56c4c-6fd3-4d2c-8bdc-f47333b89d02",
   "metadata": {},
   "outputs": [],
   "source": [
    "driver.quit()"
   ]
  },
  {
   "cell_type": "code",
   "execution_count": null,
   "id": "b07810d3-7f37-4571-a8ac-854f14a2560c",
   "metadata": {},
   "outputs": [],
   "source": []
  },
  {
   "cell_type": "markdown",
   "id": "4bbef000-f727-476b-9de8-fc5814c8bc59",
   "metadata": {},
   "source": [
    "QUESTION NO : 7"
   ]
  },
  {
   "cell_type": "code",
   "execution_count": 82,
   "id": "61f08aed-f6af-439e-a9e8-ee279ad8a21b",
   "metadata": {},
   "outputs": [],
   "source": [
    "driver = webdriver.Chrome()"
   ]
  },
  {
   "cell_type": "code",
   "execution_count": 84,
   "id": "8968058e-f043-46ff-b30f-8f0d3eb7cc2f",
   "metadata": {},
   "outputs": [],
   "source": [
    "driver.get(\"http://www.imdb.com/list/ls095964455/\")"
   ]
  },
  {
   "cell_type": "code",
   "execution_count": 85,
   "id": "d5d12865-f815-4d25-bb81-b554ce2eba4c",
   "metadata": {},
   "outputs": [],
   "source": [
    "tvShows = driver.find_elements(By.XPATH, \"//div[@class='lister-item mode-detail']\")"
   ]
  },
  {
   "cell_type": "code",
   "execution_count": 86,
   "id": "aa54b52a-cc94-4cb4-98f8-8fd784bca069",
   "metadata": {},
   "outputs": [],
   "source": [
    "name = []\n",
    "years = []\n",
    "genre = []\n",
    "run_time = []\n",
    "rating = []\n",
    "votes = []"
   ]
  },
  {
   "cell_type": "code",
   "execution_count": 90,
   "id": "abfce321-f01b-4066-abb4-0178008e73a0",
   "metadata": {},
   "outputs": [],
   "source": [
    "for tvShow in tvShows:\n",
    "\n",
    "    try:\n",
    "        name.append(tvShow.find_element(By.XPATH, \".//h3[@class='lister-item-header']//a\").text)\n",
    "    except NoSuchElementException:\n",
    "        name.append(\"-\")\n",
    "\n",
    "    try:\n",
    "        years.append(tvShow.find_element(By.XPATH, \".//span[@class='lister-item-year text-muted unbold']\").text)\n",
    "    except NoSuchElementException:\n",
    "        years.append(\"-\")\n",
    "\n",
    "    try:\n",
    "        genre.append(tvShow.find_element(By.XPATH, \".//p[@class='text-muted text-small']//span[@class='genre']\").text)\n",
    "    except NoSuchElementException:\n",
    "        genre.append(\"-\")\n",
    "\n",
    "    try:\n",
    "        run_time.append(tvShow.find_element(By.XPATH, \".//p[@class='text-muted text-small']//span[@class='runtime']\").text)\n",
    "    except NoSuchElementException:\n",
    "        run_time.append(\"-\")\n",
    "\n",
    "    try:\n",
    "        rating.append(tvShow.find_element(By.XPATH, \".//span[@class='ipl-rating-star__rating']\").text)\n",
    "    except NoSuchElementException:\n",
    "        rating.append(\"-\")\n",
    "\n",
    "    try:\n",
    "        votes.append(tvShow.find_element(By.XPATH, \".//span[@name='nv']\").text)\n",
    "    except NoSuchElementException:\n",
    "        votes.append(\"-\")"
   ]
  },
  {
   "cell_type": "code",
   "execution_count": 91,
   "id": "af9fa199-805a-4af6-ab22-e3f5287d517f",
   "metadata": {},
   "outputs": [
    {
     "data": {
      "text/html": [
       "<div>\n",
       "<style scoped>\n",
       "    .dataframe tbody tr th:only-of-type {\n",
       "        vertical-align: middle;\n",
       "    }\n",
       "\n",
       "    .dataframe tbody tr th {\n",
       "        vertical-align: top;\n",
       "    }\n",
       "\n",
       "    .dataframe thead th {\n",
       "        text-align: right;\n",
       "    }\n",
       "</style>\n",
       "<table border=\"1\" class=\"dataframe\">\n",
       "  <thead>\n",
       "    <tr style=\"text-align: right;\">\n",
       "      <th></th>\n",
       "      <th>Name</th>\n",
       "      <th>Year Span</th>\n",
       "      <th>Genre</th>\n",
       "      <th>Run Time</th>\n",
       "      <th>Rating</th>\n",
       "      <th>Votes</th>\n",
       "    </tr>\n",
       "  </thead>\n",
       "  <tbody>\n",
       "  </tbody>\n",
       "</table>\n",
       "</div>"
      ],
      "text/plain": [
       "Empty DataFrame\n",
       "Columns: [Name, Year Span, Genre, Run Time, Rating, Votes]\n",
       "Index: []"
      ]
     },
     "execution_count": 91,
     "metadata": {},
     "output_type": "execute_result"
    }
   ],
   "source": [
    "df = pd.DataFrame({'Name': name, 'Year Span': years, 'Genre': genre, 'Run Time': run_time, 'Rating': rating, 'Votes': votes})\n",
    "df"
   ]
  },
  {
   "cell_type": "code",
   "execution_count": null,
   "id": "ac0734cf-93d2-47c8-ad34-9023988ee3b2",
   "metadata": {},
   "outputs": [],
   "source": []
  },
  {
   "cell_type": "markdown",
   "id": "f15cbc27-0438-472c-90cf-1171586c71be",
   "metadata": {},
   "source": [
    "QUESTION ON : 8"
   ]
  },
  {
   "cell_type": "code",
   "execution_count": 16,
   "id": "7bf51165-8870-47ee-ae16-14f1ee73c833",
   "metadata": {},
   "outputs": [],
   "source": [
    "driver = webdriver.Chrome()"
   ]
  },
  {
   "cell_type": "code",
   "execution_count": 17,
   "id": "76830b84-69b3-4dea-bcac-eb854c2b3a92",
   "metadata": {},
   "outputs": [],
   "source": [
    "driver.get(\"https://archive.ics.uci.edu/\")"
   ]
  },
  {
   "cell_type": "code",
   "execution_count": 18,
   "id": "332a5ea5-aed1-440c-a2d9-990e524ee32c",
   "metadata": {},
   "outputs": [],
   "source": [
    "datasets=driver.find_element(By.XPATH,'/html/body/div/div[1]/div[1]/main/div/div[1]/div/div/div/a[1]')\n",
    "datasets.click()\n",
    "time.sleep(1)"
   ]
  },
  {
   "cell_type": "code",
   "execution_count": 31,
   "id": "69c37654-e0c5-4b76-a883-1e294ebf6db3",
   "metadata": {},
   "outputs": [],
   "source": [
    "dataset = []\n",
    "data_type = []\n",
    "task = []\n",
    "attribute_type = []\n",
    "instance_number = []\n",
    "attribute_number = []\n",
    "year = []"
   ]
  },
  {
   "cell_type": "code",
   "execution_count": null,
   "id": "dd770522-dbec-46e5-a1c3-d6069cd738ec",
   "metadata": {},
   "outputs": [],
   "source": [
    "true = True\n",
    "\n",
    "while true:\n",
    "\n",
    "    datasets = driver.find_elements(By.XPATH,'//a[@class=\"link-hover link text-xl font-semibold\"]')\n",
    "    for i in datasets:\n",
    "        data = i.text\n",
    "        dataset.append(data)\n",
    "\n",
    "    data_types = driver.find_elements(By.XPATH,'/html/body/div/div[1]/div[1]/main/div/div[2]/div[2]/div/div[1]/div[2]/div/div[2]/span')\n",
    "    for i in data_types:\n",
    "        dty = i.text\n",
    "        if len(dty) < 1:\n",
    "            dty = '-'\n",
    "        data_type.append(dty)\n",
    "\n",
    "    tasks = driver.find_elements(By.XPATH,'/html/body/div/div[1]/div[1]/main/div/div[2]/div[2]/div/div[1]/div[2]/div/div[1]/span')\n",
    "    for i in tasks:\n",
    "        tsk = i.text\n",
    "        if len(tsk) < 1:\n",
    "            tsk = '-'\n",
    "        task.append(tsk)\n",
    "\n",
    "    attribute_types = driver.find_elements(By.XPATH,'/html/body/div/div[1]/div[1]/main/div/div[2]/div[2]/div/div[2]/div/table/tbody/tr/td[2]')\n",
    "    for i in attribute_types:\n",
    "        attr_type = i.text\n",
    "        if len(attr_type) < 1:\n",
    "            attr_type = '-'\n",
    "        attribute_type.append(attr_type)\n",
    "\n",
    "    instance_numbers = driver.find_elements(By.XPATH,'/html/body/div/div[1]/div[1]/main/div/div[2]/div[2]/div/div[1]/div[2]/div/div[3]/span')\n",
    "    for i in instance_numbers:\n",
    "        inst_num = i.text\n",
    "        if len(inst_num) < 1:\n",
    "            inst_num = '-'\n",
    "        instance_number.append(inst_num)\n",
    "\n",
    "    attribute_numbers = driver.find_elements(By.XPATH,'/html/body/div/div[1]/div[1]/main/div/div[2]/div[2]/div/div[1]/div[2]/div/div[3]/span')\n",
    "    for i in attribute_numbers:\n",
    "        attr_num = i.text\n",
    "        if len(attr_num) < 1:\n",
    "            attr_num = '-'\n",
    "        attribute_number.append(attr_num)\n",
    "        \n",
    "    years = driver.find_elements(By.XPATH,'/html/body/div/div[1]/div[1]/main/div/div[2]/div[2]/div/div[2]/div/table/tbody/tr/td[3]')\n",
    "    for i in years:\n",
    "        yearss = i.text\n",
    "        year.append(yearss)  \n",
    "\n",
    "    try:    \n",
    "        driver.find_element(By.XPATH,'/html/body/div/div[1]/div[1]/main/div/div[2]/div[3]/div/button[2]').click() \n",
    "    except:\n",
    "        true = 0\n",
    "        break\n",
    "    \n",
    "    time.sleep(5)"
   ]
  },
  {
   "cell_type": "code",
   "execution_count": null,
   "id": "91c08109-3bf9-47b8-8095-f0a0d46e6483",
   "metadata": {},
   "outputs": [],
   "source": [
    "df = pd.DataFrame({'DataSet Name': dataset, 'Data Type': data_type, 'Task': task, 'Attribute Type': attribute_type, 'No of Instances': instance_number, 'No of attribute': attribute_number, 'Year': year})\n",
    "df\n"
   ]
  },
  {
   "cell_type": "code",
   "execution_count": null,
   "id": "c0eb7f63-f588-494e-a1fb-d72f3c0d509b",
   "metadata": {},
   "outputs": [],
   "source": [
    "driver.quit()"
   ]
  },
  {
   "cell_type": "markdown",
   "id": "b4526ee4-4ba8-48e7-965d-200bd533eaca",
   "metadata": {},
   "source": [
    "QUESTION NO : 1"
   ]
  },
  {
   "cell_type": "code",
   "execution_count": 21,
   "id": "eed35d74-7e2d-4e54-810f-7972be90591e",
   "metadata": {},
   "outputs": [],
   "source": [
    "driver = webdriver.Chrome()"
   ]
  },
  {
   "cell_type": "code",
   "execution_count": 23,
   "id": "ca2627fe-ff10-4759-8bb4-784df7f13173",
   "metadata": {},
   "outputs": [],
   "source": [
    "driver.get(\"https://en.wikipedia.org/wiki/List_of_most-viewed_YouTube_videos\")"
   ]
  },
  {
   "cell_type": "code",
   "execution_count": 24,
   "id": "d277ef03-43c8-4f65-bcf9-7e01720e3bbd",
   "metadata": {},
   "outputs": [],
   "source": [
    "rank = []\n",
    "name = []\n",
    "artist = []\n",
    "upload_date = []\n",
    "views = []"
   ]
  },
  {
   "cell_type": "code",
   "execution_count": 25,
   "id": "558e1c4a-ed2b-49b0-a050-1e6bdc4b0db6",
   "metadata": {},
   "outputs": [],
   "source": [
    "all_tables = driver.find_element(By.XPATH, \"//table\")"
   ]
  },
  {
   "cell_type": "code",
   "execution_count": 26,
   "id": "f13f6b9e-fb56-4710-8cc1-d110a3a238b4",
   "metadata": {},
   "outputs": [],
   "source": [
    "videos_table = all_tables.find_elements(By.XPATH, \"//table[@class='wikitable sortable jquery-tablesorter']\")\n",
    "    \n",
    "for video_table in videos_table[0:1]:\n",
    "        video_details = video_table.find_elements(By.XPATH, \".//tbody//tr\")"
   ]
  },
  {
   "cell_type": "code",
   "execution_count": 27,
   "id": "0d035b5d-ca71-47ec-955f-d5e7bedaed55",
   "metadata": {},
   "outputs": [],
   "source": [
    "for video in video_details:\n",
    "    try:\n",
    "        rank.append(video.find_element(By.XPATH, \".//td[1]\").text.replace(\".\", \"\"))\n",
    "    except NoSuchElementException:\n",
    "        rank.append(\"-\")\n",
    "\n",
    "    try:\n",
    "        name.append(video.find_element(By.XPATH, \".//td[2]\").text)\n",
    "    except NoSuchElementException:\n",
    "        name.append(\"-\")\n",
    "\n",
    "    try:\n",
    "        artist.append(video.find_element(By.XPATH, \".//td[3]\").text)\n",
    "    except NoSuchElementException:\n",
    "        artist.append(\"-\")\n",
    "\n",
    "    try:\n",
    "        upload_date.append(video.find_element(By.XPATH, \".//td[5]\").text)\n",
    "    except NoSuchElementException:\n",
    "        upload_date.append(\"-\")\n",
    "\n",
    "    try:\n",
    "        views.append(video.find_element(By.XPATH, \".//td[4]\").text)\n",
    "    except NoSuchElementException:\n",
    "        views.append(\"-\")"
   ]
  },
  {
   "cell_type": "code",
   "execution_count": 28,
   "id": "decc026a-e398-4f8e-9937-2493d6871a26",
   "metadata": {},
   "outputs": [
    {
     "data": {
      "text/html": [
       "<div>\n",
       "<style scoped>\n",
       "    .dataframe tbody tr th:only-of-type {\n",
       "        vertical-align: middle;\n",
       "    }\n",
       "\n",
       "    .dataframe tbody tr th {\n",
       "        vertical-align: top;\n",
       "    }\n",
       "\n",
       "    .dataframe thead th {\n",
       "        text-align: right;\n",
       "    }\n",
       "</style>\n",
       "<table border=\"1\" class=\"dataframe\">\n",
       "  <thead>\n",
       "    <tr style=\"text-align: right;\">\n",
       "      <th></th>\n",
       "      <th>Rank</th>\n",
       "      <th>Name</th>\n",
       "      <th>Artist</th>\n",
       "      <th>Upload Date</th>\n",
       "      <th>Views (billions)</th>\n",
       "    </tr>\n",
       "  </thead>\n",
       "  <tbody>\n",
       "    <tr>\n",
       "      <th>0</th>\n",
       "      <td>\"Baby Shark Dance\"[7]</td>\n",
       "      <td>Pinkfong Baby Shark - Kids' Songs &amp; Stories</td>\n",
       "      <td>7,046,700,000</td>\n",
       "      <td>November 2, 2020</td>\n",
       "      <td>June 17, 2016</td>\n",
       "    </tr>\n",
       "    <tr>\n",
       "      <th>1</th>\n",
       "      <td>\"Despacito\"[10]</td>\n",
       "      <td>Luis Fonsi</td>\n",
       "      <td>2,993,700,000</td>\n",
       "      <td>August 4, 2017</td>\n",
       "      <td>January 12, 2017</td>\n",
       "    </tr>\n",
       "    <tr>\n",
       "      <th>2</th>\n",
       "      <td>\"See You Again\"[21]</td>\n",
       "      <td>Wiz Khalifa</td>\n",
       "      <td>2,894,000,000</td>\n",
       "      <td>July 10, 2017</td>\n",
       "      <td>April 6, 2015</td>\n",
       "    </tr>\n",
       "    <tr>\n",
       "      <th>3</th>\n",
       "      <td>\"Gangnam Style\"⁂[31]</td>\n",
       "      <td>Psy</td>\n",
       "      <td>803,700,000</td>\n",
       "      <td>November 24, 2012</td>\n",
       "      <td>July 15, 2012</td>\n",
       "    </tr>\n",
       "    <tr>\n",
       "      <th>4</th>\n",
       "      <td>\"Baby\"*[69]</td>\n",
       "      <td>Justin Bieber</td>\n",
       "      <td>245,400,000</td>\n",
       "      <td>July 16, 2010</td>\n",
       "      <td>February 19, 2010</td>\n",
       "    </tr>\n",
       "    <tr>\n",
       "      <th>5</th>\n",
       "      <td>\"Bad Romance\"[73]</td>\n",
       "      <td>Lady Gaga</td>\n",
       "      <td>178,400,000</td>\n",
       "      <td>April 14, 2010</td>\n",
       "      <td>November 24, 2009</td>\n",
       "    </tr>\n",
       "    <tr>\n",
       "      <th>6</th>\n",
       "      <td>\"Charlie Bit My Finger\"[77]</td>\n",
       "      <td>HDCYT</td>\n",
       "      <td>128,900,000</td>\n",
       "      <td>October 25, 2009</td>\n",
       "      <td>May 22, 2007</td>\n",
       "    </tr>\n",
       "    <tr>\n",
       "      <th>7</th>\n",
       "      <td>\"Evolution of Dance\"[79]</td>\n",
       "      <td>Judson Laipply</td>\n",
       "      <td>118,900,000</td>\n",
       "      <td>May 2, 2009</td>\n",
       "      <td>April 6, 2006</td>\n",
       "    </tr>\n",
       "    <tr>\n",
       "      <th>8</th>\n",
       "      <td>\"Girlfriend\"‡[81][82]</td>\n",
       "      <td>RCA Records</td>\n",
       "      <td>92,600,000</td>\n",
       "      <td>July 17, 2008</td>\n",
       "      <td>February 27, 2007</td>\n",
       "    </tr>\n",
       "    <tr>\n",
       "      <th>9</th>\n",
       "      <td>\"Evolution of Dance\"[79]</td>\n",
       "      <td>Judson Laipply</td>\n",
       "      <td>78,400,000</td>\n",
       "      <td>March 15, 2008</td>\n",
       "      <td>April 6, 2006</td>\n",
       "    </tr>\n",
       "    <tr>\n",
       "      <th>10</th>\n",
       "      <td>\"Music Is My Hot Hot Sex\"‡[87]</td>\n",
       "      <td>CLARUSBARTEL72</td>\n",
       "      <td>76,600,000</td>\n",
       "      <td>March 1, 2008</td>\n",
       "      <td>April 9, 2007</td>\n",
       "    </tr>\n",
       "    <tr>\n",
       "      <th>11</th>\n",
       "      <td>\"Evolution of Dance\"*[79]</td>\n",
       "      <td>Judson Laipply</td>\n",
       "      <td>10,600,000</td>\n",
       "      <td>May 19, 2006</td>\n",
       "      <td>April 6, 2006</td>\n",
       "    </tr>\n",
       "    <tr>\n",
       "      <th>12</th>\n",
       "      <td>\"Pokémon Theme Music Video\"‡[92]</td>\n",
       "      <td>Smosh</td>\n",
       "      <td>4,300,000</td>\n",
       "      <td>March 12, 2006</td>\n",
       "      <td>November 28, 2005</td>\n",
       "    </tr>\n",
       "    <tr>\n",
       "      <th>13</th>\n",
       "      <td>\"Myspace – The Movie\"‡[97][98]</td>\n",
       "      <td>eggtea</td>\n",
       "      <td>2,700,000</td>\n",
       "      <td>February 18, 2006</td>\n",
       "      <td>January 31, 2006</td>\n",
       "    </tr>\n",
       "    <tr>\n",
       "      <th>14</th>\n",
       "      <td>\"Phony Photo Booth\"‡[101]</td>\n",
       "      <td>mugenized</td>\n",
       "      <td>3,400,000</td>\n",
       "      <td>January 21, 2006</td>\n",
       "      <td>December 1, 2005</td>\n",
       "    </tr>\n",
       "    <tr>\n",
       "      <th>15</th>\n",
       "      <td>\"The Chronic of Narnia Rap\"‡[107]</td>\n",
       "      <td>youtubedude</td>\n",
       "      <td>2,300,000</td>\n",
       "      <td>January 9, 2006</td>\n",
       "      <td>December 18, 2005</td>\n",
       "    </tr>\n",
       "    <tr>\n",
       "      <th>16</th>\n",
       "      <td>\"Ronaldinho: Touch of Gold\"‡*[110]</td>\n",
       "      <td>Nikesoccer</td>\n",
       "      <td>255,000</td>\n",
       "      <td>October 31, 2005</td>\n",
       "      <td>October 21, 2005</td>\n",
       "    </tr>\n",
       "    <tr>\n",
       "      <th>17</th>\n",
       "      <td>\"I/O Brush\"‡*[116]</td>\n",
       "      <td>larfus</td>\n",
       "      <td>247,000</td>\n",
       "      <td>October 29, 2005</td>\n",
       "      <td>October 5, 2005</td>\n",
       "    </tr>\n",
       "  </tbody>\n",
       "</table>\n",
       "</div>"
      ],
      "text/plain": [
       "                                  Rank  \\\n",
       "0                \"Baby Shark Dance\"[7]   \n",
       "1                      \"Despacito\"[10]   \n",
       "2                  \"See You Again\"[21]   \n",
       "3                 \"Gangnam Style\"⁂[31]   \n",
       "4                          \"Baby\"*[69]   \n",
       "5                    \"Bad Romance\"[73]   \n",
       "6          \"Charlie Bit My Finger\"[77]   \n",
       "7             \"Evolution of Dance\"[79]   \n",
       "8                \"Girlfriend\"‡[81][82]   \n",
       "9             \"Evolution of Dance\"[79]   \n",
       "10      \"Music Is My Hot Hot Sex\"‡[87]   \n",
       "11           \"Evolution of Dance\"*[79]   \n",
       "12    \"Pokémon Theme Music Video\"‡[92]   \n",
       "13      \"Myspace – The Movie\"‡[97][98]   \n",
       "14           \"Phony Photo Booth\"‡[101]   \n",
       "15   \"The Chronic of Narnia Rap\"‡[107]   \n",
       "16  \"Ronaldinho: Touch of Gold\"‡*[110]   \n",
       "17                  \"I/O Brush\"‡*[116]   \n",
       "\n",
       "                                           Name         Artist  \\\n",
       "0   Pinkfong Baby Shark - Kids' Songs & Stories  7,046,700,000   \n",
       "1                                    Luis Fonsi  2,993,700,000   \n",
       "2                                   Wiz Khalifa  2,894,000,000   \n",
       "3                                           Psy    803,700,000   \n",
       "4                                 Justin Bieber    245,400,000   \n",
       "5                                     Lady Gaga    178,400,000   \n",
       "6                                         HDCYT    128,900,000   \n",
       "7                                Judson Laipply    118,900,000   \n",
       "8                                   RCA Records     92,600,000   \n",
       "9                                Judson Laipply     78,400,000   \n",
       "10                               CLARUSBARTEL72     76,600,000   \n",
       "11                               Judson Laipply     10,600,000   \n",
       "12                                        Smosh      4,300,000   \n",
       "13                                       eggtea      2,700,000   \n",
       "14                                    mugenized      3,400,000   \n",
       "15                                  youtubedude      2,300,000   \n",
       "16                                   Nikesoccer        255,000   \n",
       "17                                       larfus        247,000   \n",
       "\n",
       "          Upload Date   Views (billions)  \n",
       "0    November 2, 2020      June 17, 2016  \n",
       "1      August 4, 2017   January 12, 2017  \n",
       "2       July 10, 2017      April 6, 2015  \n",
       "3   November 24, 2012      July 15, 2012  \n",
       "4       July 16, 2010  February 19, 2010  \n",
       "5      April 14, 2010  November 24, 2009  \n",
       "6    October 25, 2009       May 22, 2007  \n",
       "7         May 2, 2009      April 6, 2006  \n",
       "8       July 17, 2008  February 27, 2007  \n",
       "9      March 15, 2008      April 6, 2006  \n",
       "10      March 1, 2008      April 9, 2007  \n",
       "11       May 19, 2006      April 6, 2006  \n",
       "12     March 12, 2006  November 28, 2005  \n",
       "13  February 18, 2006   January 31, 2006  \n",
       "14   January 21, 2006   December 1, 2005  \n",
       "15    January 9, 2006  December 18, 2005  \n",
       "16   October 31, 2005   October 21, 2005  \n",
       "17   October 29, 2005    October 5, 2005  "
      ]
     },
     "execution_count": 28,
     "metadata": {},
     "output_type": "execute_result"
    }
   ],
   "source": [
    "df = pd.DataFrame({'Rank': rank, 'Name': name, 'Artist': artist, 'Upload Date': upload_date, 'Views (billions)': views})\n",
    "df"
   ]
  },
  {
   "cell_type": "code",
   "execution_count": 29,
   "id": "0c288765-a3ae-4dec-9a37-212d26110846",
   "metadata": {},
   "outputs": [],
   "source": [
    "driver.quit()"
   ]
  },
  {
   "cell_type": "code",
   "execution_count": null,
   "id": "0ea9da56-6347-4db8-8696-590a6499b6e1",
   "metadata": {},
   "outputs": [],
   "source": []
  }
 ],
 "metadata": {
  "kernelspec": {
   "display_name": "Python 3 (ipykernel)",
   "language": "python",
   "name": "python3"
  },
  "language_info": {
   "codemirror_mode": {
    "name": "ipython",
    "version": 3
   },
   "file_extension": ".py",
   "mimetype": "text/x-python",
   "name": "python",
   "nbconvert_exporter": "python",
   "pygments_lexer": "ipython3",
   "version": "3.11.7"
  }
 },
 "nbformat": 4,
 "nbformat_minor": 5
}
